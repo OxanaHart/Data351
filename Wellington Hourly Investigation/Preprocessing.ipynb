{
 "cells": [
  {
   "cell_type": "markdown",
   "metadata": {},
   "source": [
    "# Preprocessing Wellington Data\n",
    "\n",
    "**This dataset includes raw data required to calculate carbon emissions, our focus is on studying the decrease in carbon emissions for buses primarily designated for reducing carbon emissions, rather than buses primarily utilized for passenger transportation.**\n",
    "\n",
    "**While weekend buses tend to be predominantly employed for passenger transportation, it's important to note that weekday buses also serve as a means of passenger transport. However, during weekdays, buses take on an additional role: they are strategically utilized for carbon reduction efforts, particularly during peak hours like 7am-9am and 4pm-6pm.**\n",
    "\n",
    "### NetBI\n",
    "\n",
    "The following dimensions were used to generate the datasets\n",
    "\n",
    "X:\n",
    "- Actual Running Time\n",
    "- Actual In-Service KM\n",
    "- Passenger Km\n",
    "- Scheduled In-Service Km\n",
    "- Cancelled Trips\n",
    "- Sched Running Time per Trip\n",
    "\n",
    "Y:\n",
    "- Data\n",
    "- Route\n",
    "- Route Variant\n",
    "- Direction\n",
    "- Trip Number\n",
    "- Actual Vehicle Type\n",
    "- Vehicle Number\n",
    "- Vehicle Emissions Standard\n",
    "- Start Minute(Sched)\n",
    "- Day\n",
    "\n",
    "### Goals\n",
    "\n",
    "- Split running time into, hourly run time intervals\n",
    "- Calculate Average speed of a bus (distance/time) <input type=\"checkbox\" checked> \n",
    "- Calculate Average Occupancy (passenger Km/ actual km <input type=\"checkbox\" checked> \n",
    "- Calculate Carbon for routes\n",
    "- Calculate the per person carbon emissions reduction\n",
    "\n",
    "### Further Goals\n",
    "\n",
    "- Create Heat Map\n",
    "- Learn how to upload data to mongoDB\n",
    "- Integrate heat map into Bean\n",
    "\n",
    "### Where I left off on 6 September (Oxana):\n",
    "\n",
    "- Trying to create an itneractive plot\n",
    "- thinking what should be on X and Y axis of the plot, which should be the filters?\n",
    "- Also at this stage could not figure out how to explort the interactive plot outside of python\n",
    "\n",
    "\n",
    "### Loading Data"
   ]
  },
  {
   "cell_type": "code",
   "execution_count": 38,
   "metadata": {
    "ExecuteTime": {
     "end_time": "2023-08-30T01:07:13.627828Z",
     "start_time": "2023-08-30T01:07:12.835311Z"
    },
    "scrolled": true
   },
   "outputs": [],
   "source": [
    "#I needed to install dash first\n",
    "# pip install dash\n",
    "\n",
    "\n",
    "import pandas as pd\n",
    "import numpy as np\n",
    "import plotly.express as px\n",
    "from ipywidgets import interact, widgets\n",
    "import plotly.graph_objs as go\n",
    "\n",
    "# # Load and process DataFrames\n",
    "# jan1_3 = pd.read_csv(\"Wellington Raw Daily Data/Jan 1-3 2022.csv\")\n",
    "# jan4_6 = pd.read_csv(\"Wellington Raw Daily Data/Jan 4-6 2022.csv\")\n",
    "# jan7_9 = pd.read_csv(\"Wellington Raw Daily Data/Jan 7-9 2022.csv\")\n",
    "# jan10_11 = pd.read_csv(\"Wellington Raw Daily Data/Jan 10-11 2022.csv\")\n",
    "# jan12_13 = pd.read_csv(\"Wellington Raw Daily Data/Jan 12-13 2022.csv\")\n",
    "# jan14_15 = pd.read_csv(\"Wellington Raw Daily Data/Jan 14-15 2022.csv\")\n",
    "# jan16_17 = pd.read_csv(\"Wellington Raw Daily Data/Jan 16-17 2022.csv\")\n",
    "# jan18_19 = pd.read_csv(\"Wellington Raw Daily Data/Jan 18-19 2022.csv\")\n",
    "# jan20_21 = pd.read_csv(\"Wellington Raw Daily Data/Jan 20-21 2022.csv\")\n",
    "# jan22_23 = pd.read_csv(\"Wellington Raw Daily Data/Jan 22-23 2022.csv\")\n",
    "# jan24_25 = pd.read_csv(\"Wellington Raw Daily Data/Jan 24-25 2022.csv\")\n",
    "# jan26_27 = pd.read_csv(\"Wellington Raw Daily Data/Jan 26-27 2022.csv\")\n",
    "# jan28_29 = pd.read_csv(\"Wellington Raw Daily Data/Jan 28-29 2022.csv\")\n",
    "# jan30_31 = pd.read_csv(\"Wellington Raw Daily Data/Jan 30-31 2022.csv\")\n",
    "\n",
    "# # List of DataFrames\n",
    "# dataframes = [\n",
    "#     jan1_3, jan4_6, jan7_9, jan10_11, jan12_13,\n",
    "#     jan14_15, jan16_17, jan18_19, jan20_21, jan22_23,\n",
    "#     jan24_25, jan26_27, jan28_29, jan30_31\n",
    "# ]\n",
    "\n",
    "# # The bottom row of each data frame must be removed due to it being a total column.\n",
    "# def drop_last_row(df):\n",
    "#     return df.drop(df.tail(1).index)\n",
    "\n",
    "# dataframes = list(map(drop_last_row, dataframes))\n",
    "\n",
    "# # Stacking DataFrames\n",
    "# combined_df = pd.concat(dataframes, ignore_index=True)\n",
    "\n",
    "# # writing and storing processed dataframes as csv\n",
    "# combined_df.to_csv(\"Wellington Raw Monthly Data/January 2022.csv\")\n",
    "\n",
    "# print(combined_df)\n"
   ]
  },
  {
   "cell_type": "code",
   "execution_count": 28,
   "metadata": {},
   "outputs": [],
   "source": [
    "#read in sample data from Hamish. This dataframe contains all trips for FY2022/2023\n",
    "\n",
    "wlgt2022_trips = pd.read_csv('Wellington Raw Daily Data/Trips_2022-01-01_to_2023-06-30.csv')\n"
   ]
  },
  {
   "cell_type": "code",
   "execution_count": 57,
   "metadata": {
    "scrolled": true
   },
   "outputs": [
    {
     "data": {
      "text/plain": [
       "'2023-06-30'"
      ]
     },
     "execution_count": 57,
     "metadata": {},
     "output_type": "execute_result"
    }
   ],
   "source": []
  },
  {
   "cell_type": "code",
   "execution_count": 24,
   "metadata": {},
   "outputs": [
    {
     "data": {
      "text/plain": [
       "103"
      ]
     },
     "execution_count": 24,
     "metadata": {},
     "output_type": "execute_result"
    }
   ],
   "source": [
    "#come back to this, trips with negative values seem to be train trips. We do not want train trips in this data frame.\n",
    "sum(wlgt2022_trips['Passenger km']<0)"
   ]
  },
  {
   "cell_type": "markdown",
   "metadata": {},
   "source": [
    "**Bus Speed**\n",
    "\n",
    "The calculation of bus speed is straightforward and involves the formula where velocity equals the ratio of distance to time ( $ v = \\frac{d}{t} $ ).\n",
    "\n",
    "Since Actual Running Time is in seconds, we divide the time by 3600 to get speed in km her hour."
   ]
  },
  {
   "cell_type": "code",
   "execution_count": 30,
   "metadata": {},
   "outputs": [],
   "source": [
    "#Calculate Average speed of a bus (distance/time) with a condition to avoid division by zero\n",
    "wlgt2022_trips['Speed'] = np.where(wlgt2022_trips['Actual Running Time'] != 0,\n",
    "                                    wlgt2022_trips['Actual In-Service KM'] / (wlgt2022_trips['Actual Running Time'] / 3600),\n",
    "                                    0)  # Set Speed to 0 when Running Time is 0"
   ]
  },
  {
   "cell_type": "markdown",
   "metadata": {},
   "source": [
    "**Average Occupancy**\n",
    "\n",
    " Mean occupancy (per kilometre driven) equals the ratio Passenger km to Actual In-Service KM\n",
    " \n",
    " Where Passenger km is a unit of measurement representing the transport of 1 passenger over 1 km\n",
    " and Actual In-Service KM is the lengh of a trip\n"
   ]
  },
  {
   "cell_type": "code",
   "execution_count": 31,
   "metadata": {},
   "outputs": [],
   "source": [
    "wlgt2022_trips['Average Occupancy'] = np.where(wlgt2022_trips['Actual In-Service KM'] != 0,\n",
    "                                               wlgt2022_trips['Passenger km']/wlgt2022_trips['Actual In-Service KM'],\n",
    "                                               0) # Set Occupancy to 0 when Distance travelled is 0"
   ]
  },
  {
   "cell_type": "markdown",
   "metadata": {},
   "source": [
    "**Average car occupancy**\n",
    "\n",
    "We use the assumption that on average 1.3 passengers travel in each car. To calculate how many Car km it would take to transport the same number of passengers we divide Passenger km by 1.3\n",
    "\n",
    "**CO_2 emissions**\n",
    "\n",
    "CO_2 are taken to be 0.265 kg per Car km. \n",
    "To calculate how much CO_2 would be emitted if the bus passengers travelled by a private car we use the following calculation:\n",
    "$$ CO_2 emissions = \\frac{0.265\\times Passenger km}{1.3} $$\n",
    "\n",
    "**Valuation of CO_2 emissions**\n",
    "\n",
    "The whole-of-government agreed shadow price of carbon ($ per tonne of CO2 equivalent) emissions, in Table 1, is to be used for calculating the economic impact of carbon for transport activities.  This means applying the **central** price path as the default analysis in the economic evaluation of transport proposals and accompanying this with sensitivity analysis based on the low and high price paths. Quoted from here: https://www.nzta.govt.nz/assets/resources/monetised-benefits-and-costs-manual/Monetised-benefits-and-costs-manual.pdf\n",
    "\n",
    "Table 1: Shadow Price of Carbon (NZ$2022 per tonne of CO2 equivalent)\n",
    "\n",
    "\n",
    "\n",
    "| Year  | 2023  | 2024  | 2025  | 2026  | 2027  | 2028  | 2029  | 2030  | 2031  | 2032  | 2033  | 2034  |\n",
    "|-------|-------|-------|-------|-------|-------|-------|-------|-------|-------|-------|-------|-------|\n",
    "| Low   | \\$59  | \\$65  | \\$72  | \\$78  | \\$85  | \\$91  | \\$98  | \\$104 | \\$108 | \\$112 | \\$116 | \\$120 |\n",
    "| Middle| \\$87  | \\$97  | \\$107 | \\$116 | \\$126 | \\$136 | \\$146 | \\$155 | \\$161 | \\$167 | \\$174 | \\$180 |\n",
    "| High  | \\$171 | \\$182 | \\$193 | \\$203 | \\$214 | \\$219 | \\$224 | \\$230 | \\$235 | \\$241 | \\$247 | \\$253 |\n",
    "\n",
    "\n",
    "Therfore the calculation for shadow cost of CO_2 if the same trip was taken by private cars looks as follows:\n",
    "(dividing by 1000 as price is per tonne)\n",
    "\n",
    "$$ CO_2 shadow \\ cost = \\frac{0.265\\times Passenger km\\times \\$\\ Middle \\ price for 2023}{1.3\\times1000} $$\n",
    "\n",
    "Please note that part of our data is from 2022, so technically we should be using 2022 price for that part:\n",
    "Should your analysis require shadow prices for years prior to 2023, email MBCM@nzta.govt.nz.  "
   ]
  },
  {
   "cell_type": "code",
   "execution_count": 32,
   "metadata": {},
   "outputs": [],
   "source": [
    "#you can update shadow price here if you want to use it for a different year\n",
    "shadow_price2023 = 87\n",
    "\n",
    "wlgt2022_trips['CO2cost'] = wlgt2022_trips['Passenger km']*0.265*shadow_price2023/(1.3*1000)"
   ]
  },
  {
   "cell_type": "code",
   "execution_count": null,
   "metadata": {},
   "outputs": [],
   "source": [
    "# First attempt to create interactive plot"
   ]
  },
  {
   "cell_type": "code",
   "execution_count": 64,
   "metadata": {
    "scrolled": true
   },
   "outputs": [
    {
     "data": {
      "text/html": [
       "\n",
       "        <iframe\n",
       "            width=\"100%\"\n",
       "            height=\"650\"\n",
       "            src=\"http://127.0.0.1:8050/\"\n",
       "            frameborder=\"0\"\n",
       "            allowfullscreen\n",
       "            \n",
       "        ></iframe>\n",
       "        "
      ],
      "text/plain": [
       "<IPython.lib.display.IFrame at 0x29211fcad00>"
      ]
     },
     "metadata": {},
     "output_type": "display_data"
    }
   ],
   "source": [
    "import pandas as pd\n",
    "import dash\n",
    "from dash import dcc, html\n",
    "from dash.dependencies import Input, Output\n",
    "import plotly.express as px\n",
    "\n",
    "app = dash.Dash(__name__)\n",
    "\n",
    "# Layout of the web app\n",
    "app.layout = html.Div([\n",
    "    html.Label('Select Day of Week:'),\n",
    "    dcc.Dropdown(\n",
    "        id='day-dropdown',\n",
    "        options=[{'label': day, 'value': day} for day in wlgt2022_trips['Day of Week'].unique()],\n",
    "        value=wlgt2022_trips['Day of Week'].unique()[0]\n",
    "    ),\n",
    "    \n",
    "    html.Label('Select Start Time (Sched):'),\n",
    "    dcc.Dropdown(\n",
    "        id='time-dropdown',\n",
    "        options=[{'label': time, 'value': time} for time in wlgt2022_trips['Start Minute (Sched)'].unique()],\n",
    "        value=wlgt2022_trips['Start Minute (Sched)'].unique()[0]\n",
    "    ),\n",
    "    \n",
    "    dcc.Graph(id='co2-cost-plot')\n",
    "])\n",
    "\n",
    "# Callback function to update the plot based on dropdown selections\n",
    "@app.callback(\n",
    "    Output('co2-cost-plot', 'figure'),\n",
    "    [Input('day-dropdown', 'value'), Input('time-dropdown', 'value')]\n",
    ")\n",
    "def update_plot(selected_day, selected_time):\n",
    "    filtered_df = wlgt2022_trips[(wlgt2022_trips['Day of Week'] == selected_day) & (wlgt2022_trips['Start Minute (Sched)'] == selected_time)]\n",
    "    \n",
    "    fig = px.scatter(filtered_df, x='Date', y='CO2cost', title=f'CO2 Cost for {selected_day} - {selected_time}')\n",
    "    \n",
    "    fig.update_xaxes(title_text='Date')\n",
    "    fig.update_yaxes(title_text='CO2 Cost')\n",
    "    \n",
    "    return fig\n",
    "\n",
    "if __name__ == '__main__':\n",
    "    app.run_server(debug=False)\n"
   ]
  },
  {
   "cell_type": "code",
   "execution_count": 90,
   "metadata": {},
   "outputs": [
    {
     "data": {
      "text/html": [
       "\n",
       "        <iframe\n",
       "            width=\"100%\"\n",
       "            height=\"650\"\n",
       "            src=\"http://127.0.0.1:8050/\"\n",
       "            frameborder=\"0\"\n",
       "            allowfullscreen\n",
       "            \n",
       "        ></iframe>\n",
       "        "
      ],
      "text/plain": [
       "<IPython.lib.display.IFrame at 0x29218b3b190>"
      ]
     },
     "metadata": {},
     "output_type": "display_data"
    }
   ],
   "source": [
    "# 2nd attempt, trying to explore what dimentions the plot should have\n",
    "\n",
    "app = dash.Dash(__name__)\n",
    "\n",
    "# Layout of the web app\n",
    "app.layout = html.Div([\n",
    "    html.Label('Select Days of the Week:'),\n",
    "    dcc.Checklist(\n",
    "        id='day-checkboxes',\n",
    "        options=[{'label': day, 'value': day} for day in wlgt2022_trips['Day of Week'].unique()],\n",
    "        value=wlgt2022_trips['Day of Week'].unique()  # All days initially selected\n",
    "    ),\n",
    "    \n",
    "    html.Label('Select Start Time (Sched):'),\n",
    "    dcc.Dropdown(\n",
    "        id='time-dropdown',\n",
    "        options=[{'label': time, 'value': time} for time in wlgt2022_trips['Start Minute (Sched)'].unique()],\n",
    "        value=wlgt2022_trips['Start Minute (Sched)'].unique()[0]\n",
    "    ),\n",
    "    \n",
    "    html.Div(id='total-co2-cost'),  # Display the total CO2 cost\n",
    "    dcc.Graph(id='co2-cost-plot')\n",
    "])\n",
    "\n",
    "# Callback function to update the plot based on checkbox selections and time dropdown\n",
    "@app.callback(\n",
    "    [Output('co2-cost-plot', 'figure'), Output('total-co2-cost', 'children')],\n",
    "    [Input('day-checkboxes', 'value'), Input('time-dropdown', 'value')]\n",
    ")\n",
    "def update_plot(selected_days, selected_time):\n",
    "    filtered_df = wlgt2022_trips[(wlgt2022_trips['Day of Week'].isin(selected_days)) & (wlgt2022_trips['Start Minute (Sched)'] == selected_time)]\n",
    "    \n",
    "    total_co2_cost = filtered_df['CO2cost'].sum()  # Calculate the total CO2 cost\n",
    "    \n",
    "    fig = px.scatter(filtered_df, x='Day of Week', y='CO2cost', title=f'CO2 Cost for Days of the Week - {selected_time}')\n",
    "    \n",
    "    fig.update_xaxes(title_text='Day of Week')\n",
    "    fig.update_yaxes(title_text='CO2 Cost')\n",
    "    \n",
    "    return fig, f'Total CO2 Cost: {total_co2_cost:.2f}'\n",
    "\n",
    "if __name__ == '__main__':\n",
    "    app.run_server(debug=False)"
   ]
  },
  {
   "cell_type": "markdown",
   "metadata": {},
   "source": []
  }
 ],
 "metadata": {
  "kernelspec": {
   "display_name": "Python 3 (ipykernel)",
   "language": "python",
   "name": "python3"
  },
  "language_info": {
   "codemirror_mode": {
    "name": "ipython",
    "version": 3
   },
   "file_extension": ".py",
   "mimetype": "text/x-python",
   "name": "python",
   "nbconvert_exporter": "python",
   "pygments_lexer": "ipython3",
   "version": "3.9.12"
  }
 },
 "nbformat": 4,
 "nbformat_minor": 1
}
