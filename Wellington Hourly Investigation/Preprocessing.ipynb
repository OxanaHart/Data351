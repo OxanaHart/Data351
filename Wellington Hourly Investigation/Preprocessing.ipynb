{
 "cells": [
  {
   "cell_type": "markdown",
   "metadata": {},
   "source": [
    "# Preprocessing Wellington Data\n",
    "\n",
    "**This dataset includes raw data required to calculate carbon emissions, our focus is on studying the decrease in carbon emissions for buses primarily designated for reducing carbon emissions, rather than buses primarily utilized for passenger transportation.**\n",
    "\n",
    "**While weekend buses tend to be predominantly employed for passenger transportation, it's important to note that weekday buses also serve as a means of passenger transport. However, during weekdays, buses take on an additional role: they are strategically utilized for carbon reduction efforts, particularly during peak hours like 7am-9am and 4pm-6pm.**\n",
    "\n",
    "### NetBI\n",
    "\n",
    "The following dimensions were used to generate the datasets\n",
    "\n",
    "X:\n",
    "- Actual Running Time\n",
    "- Actual In-Service KM\n",
    "- Passenger Km\n",
    "- Scheduled In-Service Km\n",
    "- Cancelled Trips\n",
    "- Sched Running Time per Trip\n",
    "\n",
    "Y:\n",
    "- Data\n",
    "- Route\n",
    "- Route Variant\n",
    "- Direction\n",
    "- Trip Number\n",
    "- Actual Vehicle Type\n",
    "- Vehicle Number\n",
    "- Vehicle Emissions Standard\n",
    "- Start Minute(Sched)\n",
    "- Day\n",
    "\n",
    "### Goals\n",
    "\n",
    "- Split running time into, hourly run time intervals\n",
    "- Calculate Average speed of a bus (distance/time) <input type=\"checkbox\" checked> \n",
    "- Calculate Average Occupancy (passenger Km/ actual km <input type=\"checkbox\" checked> \n",
    "- Calculate Carbon for routes <input type=\"checkbox\" checked>\n",
    "- Calculate the per person carbon emissions reduction\n",
    "- tydy up emissions calculations description based on latest info from Josh\n",
    "\n",
    "### Further Goals\n",
    "\n",
    "- Create Heat Map\n",
    "- Learn how to upload data to mongoDB\n",
    "- Integrate heat map into Bean\n",
    "\n",
    " - please note, that this analysis does not account for canclelled buses, only those that ran. We have no time to fit this part of analysis in.\n",
    " \n",
    "\n",
    "### Where I left off on 6 September (Oxana):\n",
    "\n",
    "- Trying to create an itneractive plot\n",
    "- thinking what should be on X and Y axis of the plot, which should be the filters?\n",
    "- Also at this stage could not figure out how to explort the interactive plot outside of python\n",
    "\n",
    "### Where I left off on 13 September (Oxana):\n",
    "\n",
    "- merged trips data with fleetmaster to find out tareWeight of each bus. About 30% of info missing, checking with Hamish on this.\n",
    "- created function that calculates emissions\n",
    "- added the column to the data that calculates emissions\n",
    "- need to add another calc for emissions for ELECTRIC bus, perhaps its just zero, did not have time to find out\n",
    "- after the above is ironed out, need to aggregate the data per route per weekday and per hour of the day\n",
    " - next plot it\n",
    "\n",
    "\n",
    "### Loading Data"
   ]
  },
  {
   "cell_type": "code",
   "execution_count": 1,
   "metadata": {
    "ExecuteTime": {
     "end_time": "2023-08-30T01:07:13.627828Z",
     "start_time": "2023-08-30T01:07:12.835311Z"
    },
    "scrolled": true
   },
   "outputs": [],
   "source": [
    "#I needed to install dash first\n",
    "# pip install dash\n",
    "\n",
    "\n",
    "import pandas as pd\n",
    "import numpy as np\n",
    "import plotly.express as px\n",
    "from ipywidgets import interact, widgets\n",
    "import plotly.graph_objs as go\n",
    "\n",
    "# # Load and process DataFrames\n",
    "# jan1_3 = pd.read_csv(\"Wellington Raw Daily Data/Jan 1-3 2022.csv\")\n",
    "# jan4_6 = pd.read_csv(\"Wellington Raw Daily Data/Jan 4-6 2022.csv\")\n",
    "# jan7_9 = pd.read_csv(\"Wellington Raw Daily Data/Jan 7-9 2022.csv\")\n",
    "# jan10_11 = pd.read_csv(\"Wellington Raw Daily Data/Jan 10-11 2022.csv\")\n",
    "# jan12_13 = pd.read_csv(\"Wellington Raw Daily Data/Jan 12-13 2022.csv\")\n",
    "# jan14_15 = pd.read_csv(\"Wellington Raw Daily Data/Jan 14-15 2022.csv\")\n",
    "# jan16_17 = pd.read_csv(\"Wellington Raw Daily Data/Jan 16-17 2022.csv\")\n",
    "# jan18_19 = pd.read_csv(\"Wellington Raw Daily Data/Jan 18-19 2022.csv\")\n",
    "# jan20_21 = pd.read_csv(\"Wellington Raw Daily Data/Jan 20-21 2022.csv\")\n",
    "# jan22_23 = pd.read_csv(\"Wellington Raw Daily Data/Jan 22-23 2022.csv\")\n",
    "# jan24_25 = pd.read_csv(\"Wellington Raw Daily Data/Jan 24-25 2022.csv\")\n",
    "# jan26_27 = pd.read_csv(\"Wellington Raw Daily Data/Jan 26-27 2022.csv\")\n",
    "# jan28_29 = pd.read_csv(\"Wellington Raw Daily Data/Jan 28-29 2022.csv\")\n",
    "# jan30_31 = pd.read_csv(\"Wellington Raw Daily Data/Jan 30-31 2022.csv\")\n",
    "\n",
    "# # List of DataFrames\n",
    "# dataframes = [\n",
    "#     jan1_3, jan4_6, jan7_9, jan10_11, jan12_13,\n",
    "#     jan14_15, jan16_17, jan18_19, jan20_21, jan22_23,\n",
    "#     jan24_25, jan26_27, jan28_29, jan30_31\n",
    "# ]\n",
    "\n",
    "# # The bottom row of each data frame must be removed due to it being a total column.\n",
    "# def drop_last_row(df):\n",
    "#     return df.drop(df.tail(1).index)\n",
    "\n",
    "# dataframes = list(map(drop_last_row, dataframes))\n",
    "\n",
    "# # Stacking DataFrames\n",
    "# combined_df = pd.concat(dataframes, ignore_index=True)\n",
    "\n",
    "# # writing and storing processed dataframes as csv\n",
    "# combined_df.to_csv(\"Wellington Raw Monthly Data/January 2022.csv\")\n",
    "\n",
    "# print(combined_df)\n"
   ]
  },
  {
   "cell_type": "code",
   "execution_count": 2,
   "metadata": {},
   "outputs": [],
   "source": [
    "#read in sample data from Hamish. This dataframe contains all trips for FY2022/2023\n",
    "\n",
    "wlgt2022_trips = pd.read_csv('Wellington Raw Data/Trips_2022-01-01_to_2023-06-30.csv')\n"
   ]
  },
  {
   "cell_type": "code",
   "execution_count": 3,
   "metadata": {},
   "outputs": [
    {
     "data": {
      "text/plain": [
       "103"
      ]
     },
     "execution_count": 3,
     "metadata": {},
     "output_type": "execute_result"
    }
   ],
   "source": [
    "#come back to this, trips with negative values seem to be train trips. We do not want train trips in this data frame.\n",
    "sum(wlgt2022_trips['Passenger km']<0)"
   ]
  },
  {
   "cell_type": "markdown",
   "metadata": {},
   "source": [
    "**Bus Speed**\n",
    "\n",
    "The calculation of bus speed is straightforward and involves the formula where velocity equals the ratio of distance to time ( $ v = \\frac{d}{t} $ ).\n",
    "\n",
    "Since Actual Running Time is in seconds, we divide the time by 3600 to get speed in km her hour."
   ]
  },
  {
   "cell_type": "code",
   "execution_count": 4,
   "metadata": {},
   "outputs": [],
   "source": [
    "#Calculate Average speed of a bus (distance/time) with a condition to avoid division by zero\n",
    "wlgt2022_trips['Speed'] = np.where(wlgt2022_trips['Actual Running Time'] != 0,\n",
    "                                    wlgt2022_trips['Actual In-Service KM'] / (wlgt2022_trips['Actual Running Time'] / 3600),\n",
    "                                    0)  # Set Speed to 0 when Running Time is 0"
   ]
  },
  {
   "cell_type": "markdown",
   "metadata": {},
   "source": [
    "**Average Occupancy**\n",
    "\n",
    " Mean occupancy (per kilometre driven) equals the ratio Passenger km to Actual In-Service KM\n",
    " \n",
    " Where Passenger km is a unit of measurement representing the transport of 1 passenger over 1 km\n",
    " and Actual In-Service KM is the lengh of a trip\n"
   ]
  },
  {
   "cell_type": "code",
   "execution_count": 5,
   "metadata": {},
   "outputs": [],
   "source": [
    "wlgt2022_trips['Average Occupancy'] = np.where(wlgt2022_trips['Actual In-Service KM'] != 0,\n",
    "                                               wlgt2022_trips['Passenger km']/wlgt2022_trips['Actual In-Service KM'],\n",
    "                                               0) # Set Occupancy to 0 when Distance travelled is 0"
   ]
  },
  {
   "cell_type": "code",
   "execution_count": 6,
   "metadata": {},
   "outputs": [
    {
     "name": "stdout",
     "output_type": "stream",
     "text": [
      "<class 'pandas.core.frame.DataFrame'>\n",
      "RangeIndex: 1312948 entries, 0 to 1312947\n",
      "Data columns (total 19 columns):\n",
      " #   Column                       Non-Null Count    Dtype  \n",
      "---  ------                       --------------    -----  \n",
      " 0   Date                         1312948 non-null  object \n",
      " 1   Route                        1312948 non-null  object \n",
      " 2   Route Variant                1312948 non-null  object \n",
      " 3   Direction                    1312948 non-null  object \n",
      " 4   Trip Number                  1312948 non-null  int64  \n",
      " 5   Vehicle Number               1312948 non-null  object \n",
      " 6   Actual Vehicle Type          1312948 non-null  object \n",
      " 7   Vehicle Emissions Standard   1312948 non-null  object \n",
      " 8   Start Minute (Sched)         1312948 non-null  object \n",
      " 9   Actual Running Time          1312948 non-null  int64  \n",
      " 10  Sched Running Time per Trip  1312948 non-null  int64  \n",
      " 11  Actual In-Service KM         1312948 non-null  float64\n",
      " 12  Scheduled In-Service km      1312948 non-null  float64\n",
      " 13  Passenger km                 1312948 non-null  float64\n",
      " 14  Cancelled Trips              1312948 non-null  int64  \n",
      " 15  Sighted Stops (%)            1312948 non-null  float64\n",
      " 16  Day of Week                  1312948 non-null  object \n",
      " 17  Speed                        1312948 non-null  float64\n",
      " 18  Average Occupancy            1312948 non-null  float64\n",
      "dtypes: float64(6), int64(4), object(9)\n",
      "memory usage: 190.3+ MB\n"
     ]
    }
   ],
   "source": [
    "wlgt2022_trips.info()"
   ]
  },
  {
   "cell_type": "code",
   "execution_count": 17,
   "metadata": {},
   "outputs": [
    {
     "data": {
      "text/plain": [
       "EURO6       551159\n",
       "ELECTRIC    278966\n",
       "Unknown     272776\n",
       "EURO5       115678\n",
       "EURO3        60146\n",
       "EURO4        34223\n",
       "Name: Vehicle Emissions Standard, dtype: int64"
      ]
     },
     "execution_count": 17,
     "metadata": {},
     "output_type": "execute_result"
    }
   ],
   "source": [
    "# look into data that we have on Engine Type:\n",
    "wlgt2022_trips['Vehicle Emissions Standard'].value_counts()\n",
    "    "
   ]
  },
  {
   "cell_type": "markdown",
   "metadata": {},
   "source": [
    "**Tare Weight**"
   ]
  },
  {
   "cell_type": "code",
   "execution_count": 8,
   "metadata": {},
   "outputs": [],
   "source": [
    "# Now look up tareWeight of each bus\n",
    "wlgt2022_fleetmaster = pd.read_csv('Wellington Raw Data/fleet_master.csv')\n",
    "# Convert the 'Date Modified' column to datetime\n",
    "wlgt2022_fleetmaster['Date Modified'] = pd.to_datetime(wlgt2022_fleetmaster['Date Modified'], format='%d/%m/%Y')\n",
    "\n",
    "# filter fleetmaster to leave latest 'Date Modified' data only \n",
    "wlgt2022_fleetmaster = wlgt2022_fleetmaster.loc[wlgt2022_fleetmaster.groupby('Vehicle Number')['Date Modified'].idxmax()]"
   ]
  },
  {
   "cell_type": "code",
   "execution_count": 9,
   "metadata": {
    "scrolled": true
   },
   "outputs": [
    {
     "name": "stdout",
     "output_type": "stream",
     "text": [
      "<class 'pandas.core.frame.DataFrame'>\n",
      "Int64Index: 622 entries, 7988 to 8606\n",
      "Data columns (total 18 columns):\n",
      " #   Column                                   Non-Null Count  Dtype         \n",
      "---  ------                                   --------------  -----         \n",
      " 0   Date Modified                            622 non-null    datetime64[ns]\n",
      " 1   Vehicle Number                           622 non-null    object        \n",
      " 2   Operator                                 622 non-null    object        \n",
      " 3   Operator Short Code                      622 non-null    object        \n",
      " 4   Operator Prefix                          622 non-null    object        \n",
      " 5   Unit Number                              536 non-null    object        \n",
      " 6   Mode                                     622 non-null    object        \n",
      " 7   Date of First Registration               573 non-null    object        \n",
      " 8   Date of Manufacture                      563 non-null    object        \n",
      " 9   Bike Rack Capable                        603 non-null    object        \n",
      " 10  Bus Size                                 622 non-null    object        \n",
      " 11  Engine Rating                            622 non-null    object        \n",
      " 12  Max no. of passengers (Seated, Adult)    614 non-null    float64       \n",
      " 13  Max no. of passengers (Standing, Adult)  614 non-null    float64       \n",
      " 14  No. of Wheelchair Spaces                 593 non-null    float64       \n",
      " 15  TARE Weight (KG)                         622 non-null    int64         \n",
      " 16  Vehicle Registration Number              609 non-null    object        \n",
      " 17  source_filename                          622 non-null    object        \n",
      "dtypes: datetime64[ns](1), float64(3), int64(1), object(13)\n",
      "memory usage: 92.3+ KB\n"
     ]
    }
   ],
   "source": [
    "wlgt2022_fleetmaster.info()"
   ]
  },
  {
   "cell_type": "code",
   "execution_count": 10,
   "metadata": {
    "scrolled": true
   },
   "outputs": [],
   "source": [
    "# add tare Weight info to wlgt2022_trips by merging wlgt2022_trips with wlgt2022_fleetmaster\n",
    "wlgt2022_trips_merged = wlgt2022_trips.merge(wlgt2022_fleetmaster[['Vehicle Number', 'TARE Weight (KG)']], on='Vehicle Number', how='left')\n"
   ]
  },
  {
   "cell_type": "markdown",
   "metadata": {},
   "source": [
    "# Calculate Emissions"
   ]
  },
  {
   "cell_type": "code",
   "execution_count": 11,
   "metadata": {},
   "outputs": [],
   "source": [
    "#this cell is entering all the constants needed for calcs\n",
    "\n",
    "LUBE = 0.265170857776354\n",
    "PASSENGERWEIGHT = 80         #average passenger weight\n",
    "DIESELDENSITY = 835          # grams per litre\n",
    "emission_equations = [\n",
    "    {\n",
    "        \"_id\": \"EURO6\",\n",
    "        \"a\": -0.00000490907972998,\n",
    "        \"b\": -0.0138698794326,\n",
    "        \"g\": 2.65774563711,\n",
    "        \"d\": 3.2553615439,\n",
    "        \"e\": -0.000051285329923,\n",
    "        \"z\": 0.00498758025146,\n",
    "        \"h\": 0.125550793946\n",
    "    },\n",
    "    {\n",
    "        \"_id\": \"EURO5\",\n",
    "        \"a\": -0.0000367698590941,\n",
    "        \"b\": -0.0134678044879,\n",
    "        \"g\": 3.05911007786,\n",
    "        \"d\": 3.55505145507,\n",
    "        \"e\": -0.0000618780508159,\n",
    "        \"z\": 0.00594233596222,\n",
    "        \"h\": 0.142419853084\n",
    "    },\n",
    "    {\n",
    "        \"_id\": \"EURO4\",\n",
    "        \"a\": 0.00251040331347,\n",
    "        \"b\": -0.0863970747847,\n",
    "        \"g\": 1.10983487462,\n",
    "        \"d\": 14.7776496863,\n",
    "        \"e\": 0.000327986189114,\n",
    "        \"z\": -0.0130053588546,\n",
    "        \"h\": 0.218081753103\n",
    "    },\n",
    "    {\n",
    "        \"_id\": \"EURO3\",\n",
    "        \"a\": 0.00000421475875959,\n",
    "        \"b\": 0.0207160939587,\n",
    "        \"g\": 1.73463013954,\n",
    "        \"d\": 7.0692144528,\n",
    "        \"e\": -0.0000197902932034,\n",
    "        \"z\": 0.0062379661034,\n",
    "        \"h\": 0.0627620452536\n",
    "    },\n",
    "    {\n",
    "        \"_id\": \"EURO2\",\n",
    "        \"a\": 0.00000840769603463,\n",
    "        \"b\": 0.0200800121334,\n",
    "        \"g\": 1.65858316407,\n",
    "        \"d\": 6.77362500033,\n",
    "        \"e\": -0.0000201599863213,\n",
    "        \"z\": 0.00634399262596,\n",
    "        \"h\": 0.0638032158354\n",
    "    },\n",
    "    {\n",
    "        \"_id\": \"EURO1\",\n",
    "        \"a\": -0.00000137497057894,\n",
    "        \"b\": 0.0209960875758,\n",
    "        \"g\": 1.88066742017,\n",
    "        \"d\": 7.94657629399,\n",
    "        \"e\": -0.0000215438923697,\n",
    "        \"z\": 0.00682789815225,\n",
    "        \"h\": 0.00682789815225\n",
    "    },\n",
    "    {\n",
    "        \"_id\": \"PREEURO\",\n",
    "        \"a\": -0.00000656462584868,\n",
    "        \"b\": 0.0178339567319,\n",
    "        \"g\": 1.79325857679,\n",
    "        \"d\": 7.7207331411,\n",
    "        \"e\": -0.0000181010843656,\n",
    "        \"z\": 0.00549860697303,\n",
    "        \"h\": 0.045663294005\n",
    "    }\n",
    "]\n",
    "\n",
    "#The following are \n",
    "CH4 = {\n",
    "    \"PREEURO\": 0.175,\n",
    "    \"EURO1\": 0.175,\n",
    "    \"EURO2\": 0.11375,\n",
    "    \"EURO3\": 0.10325,\n",
    "    \"EURO4\": 0.00525,\n",
    "    \"EURO5\": 0.00525,\n",
    "    \"EURO6\": 0.00525,\n",
    "    \"CO2FACTOR\": 25\n",
    "}\n",
    "\n",
    "# N2O.CO2FACTOR converts the N20 realsed to its C02 equivilent. \n",
    "# This is to say, how much greenhouse effect does this have over its time in the apnosphere. \n",
    "# How much CO2 is needed to have the same effect as this much N20. \n",
    "# The numbers we have in the code are used by a previous group however I did my own research and found slightly different numbers. I really want to put them in but I don't know where their numbers come from and I can't find any through research.\n",
    "\n",
    "# CalcN20 is the greenhouse effectivness of N20 compared to CO\n",
    "\n",
    "# Just looking at this it looks wrong.\n",
    "# I would think taht the numbers would decrease as the euros get smaller, not increase. \n",
    "# I think that it is reasonable to say that the numbers are the wrong way around. \n",
    "# However for consistency with BEAn I am keeping it as is.\n",
    "N2O = {\n",
    "    \"PREEURO\"  : 0.030,            \n",
    "    \"EURO1\"     : 0.012,\n",
    "    \"EURO2\"     : 0.012,\n",
    "    \"EURO3\"     : 0.006,\n",
    "    \"EURO4\"     : 0.0128,\n",
    "    \"EURO5\"     : 0.0332,\n",
    "    \"EURO6\"     : 0.0415,\n",
    "    \"CO2FACTOR\": 298\n",
    "}"
   ]
  },
  {
   "cell_type": "code",
   "execution_count": 12,
   "metadata": {},
   "outputs": [],
   "source": [
    "# this cell defines a function for emissions calculation\n",
    "\n",
    "# calculate the emissions in grams per KM\n",
    "\n",
    "\n",
    "# You can access the dictionary for each engine using the engine name as the key.\n",
    "\n",
    "def calcCO2equiv(row):\n",
    "    \n",
    "    \n",
    "    tareWeight = row['TARE Weight (KG)'] \n",
    "    aveOccupancy = row['Average Occupancy'] \n",
    "    distance = row['Actual In-Service KM']\n",
    "    speed = row['Speed']\n",
    "    euro = row['Vehicle Emissions Standard']\n",
    "    \n",
    "    if speed == 0:\n",
    "        CO2emissions = 0 \n",
    "    elif euro == 'ELECTRIC':\n",
    "        CO2emissions = \"another calc\" #to be worked out later\n",
    "    elif euro =='Unknown':\n",
    "        CO2emissions = \"cannot establish\"\n",
    "    else:\n",
    "        for item in emission_equations: #looking up values for calculating fuel consumption depending on engine type\n",
    "            if item[\"_id\"] == euro:\n",
    "                a = item[\"a\"]\n",
    "                b = item[\"b\"]\n",
    "                g = item[\"g\"]\n",
    "                d = item[\"d\"]\n",
    "                e = item[\"e\"]\n",
    "                z = item[\"z\"]\n",
    "                h = item[\"h\"]\n",
    "\n",
    "                \n",
    "        # **Step 1.** Calculate weight factors:\n",
    "\n",
    "        loadedWeight = tareWeight + aveOccupancy * PASSENGERWEIGHT\n",
    "        tareFactor =   (0.00004711 * tareWeight) + 0.446\n",
    "        loadedFactor = (0.00004711 * loadedWeight) + 0.446\n",
    "        # **Step 2** Calculate fuelConsumed\n",
    "        fuelConsumedStandard = 100/(45.79 * DIESELDENSITY/1000)*(a * speed**2+b * speed+g+d/speed)/(e*speed**2 + z*speed + h) #L/lm\n",
    "        #note: ** is power operator (^)\n",
    "        fuelConsumedAdjusted = fuelConsumedStandard * (loadedFactor * distance + tareFactor * distance*0.15) \n",
    "        # note: distance*0.15 is repositioning distance \n",
    "        # The 0.15 is accounting for an approximation 15% of the journey the bus travels to either get back to the bus depo or start the next route\n",
    "        # **Step 3** Calculate fuelEmissions\n",
    "        fuelEmissions = fuelConsumedAdjusted * 69.31 * DIESELDENSITY * 45.79/100000 #69.31 is CO2 emission factor (tCO2/TJ)\n",
    "        oilEmissions = distance * LUBE\n",
    "        CO2emissions = fuelEmissions + oilEmissions\n",
    "        \n",
    "        #**Step 4.** Add emissions from all pollutants: \n",
    "        CH4Emissions = distance * CH4[euro] * CH4['CO2FACTOR']\n",
    "        N2OEmissions = distance * N2O[euro] * N2O['CO2FACTOR']\n",
    "        \n",
    "               \n",
    "    return CO2emissions\n",
    "    \n",
    "    "
   ]
  },
  {
   "cell_type": "code",
   "execution_count": 15,
   "metadata": {},
   "outputs": [],
   "source": [
    "wlgt2022_trips_merged['CO2emissions'] = wlgt2022_trips_merged.apply(calcCO2equiv, axis = 1)"
   ]
  },
  {
   "cell_type": "code",
   "execution_count": 37,
   "metadata": {},
   "outputs": [
    {
     "data": {
      "text/plain": [
       "count    9.581860e+05\n",
       "mean     9.392921e+03\n",
       "std      6.033191e+04\n",
       "min     -1.187690e+07\n",
       "25%      2.738973e+03\n",
       "50%      8.429086e+03\n",
       "75%      1.352473e+04\n",
       "max      3.673509e+07\n",
       "Name: CO2emissions, dtype: float64"
      ]
     },
     "execution_count": 37,
     "metadata": {},
     "output_type": "execute_result"
    }
   ],
   "source": [
    "wlgt2022_trips_merged['CO2emissions'].describe()"
   ]
  },
  {
   "cell_type": "code",
   "execution_count": 19,
   "metadata": {
    "scrolled": true
   },
   "outputs": [
    {
     "name": "stdout",
     "output_type": "stream",
     "text": [
      "<class 'pandas.core.frame.DataFrame'>\n",
      "Int64Index: 1312948 entries, 0 to 1312947\n",
      "Data columns (total 21 columns):\n",
      " #   Column                       Non-Null Count    Dtype  \n",
      "---  ------                       --------------    -----  \n",
      " 0   Date                         1312948 non-null  object \n",
      " 1   Route                        1312948 non-null  object \n",
      " 2   Route Variant                1312948 non-null  object \n",
      " 3   Direction                    1312948 non-null  object \n",
      " 4   Trip Number                  1312948 non-null  int64  \n",
      " 5   Vehicle Number               1312948 non-null  object \n",
      " 6   Actual Vehicle Type          1312948 non-null  object \n",
      " 7   Vehicle Emissions Standard   1312948 non-null  object \n",
      " 8   Start Minute (Sched)         1312948 non-null  object \n",
      " 9   Actual Running Time          1312948 non-null  int64  \n",
      " 10  Sched Running Time per Trip  1312948 non-null  int64  \n",
      " 11  Actual In-Service KM         1312948 non-null  float64\n",
      " 12  Scheduled In-Service km      1312948 non-null  float64\n",
      " 13  Passenger km                 1312948 non-null  float64\n",
      " 14  Cancelled Trips              1312948 non-null  int64  \n",
      " 15  Sighted Stops (%)            1312948 non-null  float64\n",
      " 16  Day of Week                  1312948 non-null  object \n",
      " 17  Speed                        1312948 non-null  float64\n",
      " 18  Average Occupancy            1312948 non-null  float64\n",
      " 19  TARE Weight (KG)             1040172 non-null  float64\n",
      " 20  CO2emissions                 1312948 non-null  object \n",
      "dtypes: float64(7), int64(4), object(10)\n",
      "memory usage: 220.4+ MB\n"
     ]
    }
   ],
   "source": [
    "wlgt2022_trips_merged.info()"
   ]
  },
  {
   "cell_type": "code",
   "execution_count": 36,
   "metadata": {},
   "outputs": [
    {
     "data": {
      "image/png": "[encoded data removed]",
      "text/plain": [
       "<Figure size 864x576 with 1 Axes>"
      ]
     },
     "metadata": {
      "needs_background": "light"
     },
     "output_type": "display_data"
    }
   ],
   "source": [
    "# just checking how this looks:\n",
    "import seaborn as sns\n",
    "import matplotlib.pyplot as plt\n",
    "\n",
    "forPlot = wlgt2022_trips_merged.copy()\n",
    "forPlot['CO2emissions'] = pd.to_numeric(forPlot['CO2emissions'], errors='coerce')\n",
    "\n",
    "plt.figure(figsize=(12, 8))\n",
    "sns.boxplot(x='Vehicle Emissions Standard', y='CO2emissions', data=forPlot, order=emissions_standard_mapping.keys())\n",
    "plt.xticks(rotation=45)\n",
    "plt.xlabel('Emissions Standard')\n",
    "plt.ylabel('CO2 Emissions')\n",
    "plt.title('Boxplot of CO2 Emissions per Emissions Standard')\n",
    "plt.grid(True)\n",
    "plt.tight_layout()\n",
    "plt.show()"
   ]
  },
  {
   "cell_type": "markdown",
   "metadata": {},
   "source": [
    "**aggregating the data for plotting**\n",
    "come back to this"
   ]
  },
  {
   "cell_type": "code",
   "execution_count": 24,
   "metadata": {},
   "outputs": [],
   "source": [
    "wlgt2022_trips_merged['CO2emissions'] = pd.to_numeric(wlgt2022_trips_merged['CO2emissions'], errors='coerce')\n",
    "\n",
    "# Group by \"Route,\" \"Day of Week,\" and \"Start Minute\" and aggregate using desired functions\n",
    "\n",
    "aggregated_df = wlgt2022_trips_merged.groupby([\"Route\", \"Day of Week\", \"Start Minute (Sched)\"]).agg({\n",
    "    \"Trip Number\": \"count\",  # Count of trips\n",
    "    \"Actual Running Time\": \"sum\",  # Sum of running times\n",
    "    \"Actual In-Service KM\": \"sum\",  # Sum of scheduled in-service km\n",
    "    \"Passenger km\": \"sum\",  # Sum of passenger km\n",
    "    'Speed': \"mean\",\n",
    "    'Average Occupancy': 'mean',\n",
    "    \"CO2emissions\": \"mean\"  # Calculate mean of CO2emissions\n",
    "}).reset_index()\n",
    "\n",
    "# rename the columns for clarity\n",
    "aggregated_df.columns = [\"Route\", \"Day of Week\", \"Start Minute\", \"Trip Count\", \"Total Running Time\",\n",
    "                         \"Total Actual In-Service km\", \"Total Passenger km\", \"Mean Speed\", \"Mean Occupancy\", \n",
    "                         \"Mean CO2 Emissions\"]"
   ]
  },
  {
   "cell_type": "code",
   "execution_count": 31,
   "metadata": {},
   "outputs": [
    {
     "data": {
      "text/plain": [
       "67"
      ]
     },
     "execution_count": 31,
     "metadata": {},
     "output_type": "execute_result"
    }
   ],
   "source": [
    "#investigate why some emissions are less than zero\n",
    "\n",
    "sum(aggregated_df['Mean CO2 Emissions']<0)"
   ]
  },
  {
   "cell_type": "markdown",
   "metadata": {},
   "source": [
    "**Average car occupancy**\n",
    "\n",
    "We use the assumption that on average 1.3 passengers travel in each car. To calculate how many Car km it would take to transport the same number of passengers we divide Passenger km by 1.3\n",
    "\n",
    "**CO_2 emissions**\n",
    "\n",
    "CO_2 are taken to be 0.265 kg per Car km. \n",
    "To calculate how much CO_2 would be emitted if the bus passengers travelled by a private car we use the following calculation:\n",
    "$$ CO_2 emissions = \\frac{0.265\\times Passenger km}{1.3} $$\n",
    "\n",
    "**Valuation of CO_2 emissions**\n",
    "\n",
    "The whole-of-government agreed shadow price of carbon ($ per tonne of CO2 equivalent) emissions, in Table 1, is to be used for calculating the economic impact of carbon for transport activities.  This means applying the **central** price path as the default analysis in the economic evaluation of transport proposals and accompanying this with sensitivity analysis based on the low and high price paths. Quoted from here: https://www.nzta.govt.nz/assets/resources/monetised-benefits-and-costs-manual/Monetised-benefits-and-costs-manual.pdf\n",
    "\n",
    "Table 1: Shadow Price of Carbon (NZ$2022 per tonne of CO2 equivalent)\n",
    "\n",
    "\n",
    "\n",
    "| Year  | 2023  | 2024  | 2025  | 2026  | 2027  | 2028  | 2029  | 2030  | 2031  | 2032  | 2033  | 2034  |\n",
    "|-------|-------|-------|-------|-------|-------|-------|-------|-------|-------|-------|-------|-------|\n",
    "| Low   | \\$59  | \\$65  | \\$72  | \\$78  | \\$85  | \\$91  | \\$98  | \\$104 | \\$108 | \\$112 | \\$116 | \\$120 |\n",
    "| Middle| \\$87  | \\$97  | \\$107 | \\$116 | \\$126 | \\$136 | \\$146 | \\$155 | \\$161 | \\$167 | \\$174 | \\$180 |\n",
    "| High  | \\$171 | \\$182 | \\$193 | \\$203 | \\$214 | \\$219 | \\$224 | \\$230 | \\$235 | \\$241 | \\$247 | \\$253 |\n",
    "\n",
    "\n",
    "Therefore the calculation for shadow cost of CO_2 if the same trip was taken by private cars looks as follows:\n",
    "(dividing by 1000 as price is per tonne)\n",
    "\n",
    "$$ CO_2 shadow \\ cost = \\frac{0.265\\times Passenger km\\times \\$\\ Middle \\ price for 2023}{1.3\\times1000} $$\n",
    "\n",
    "Please note that part of our data is from 2022, so technically we should be using 2022 price for that part:\n",
    "Should your analysis require shadow prices for years prior to 2023, email MBCM@nzta.govt.nz.  "
   ]
  },
  {
   "cell_type": "code",
   "execution_count": 32,
   "metadata": {},
   "outputs": [],
   "source": [
    "#you can update shadow price here if you want to use it for a different year\n",
    "shadow_price2023 = 87\n",
    "\n",
    "wlgt2022_trips['CO2cost'] = wlgt2022_trips['Passenger km']*0.265*shadow_price2023/(1.3*1000)"
   ]
  },
  {
   "cell_type": "code",
   "execution_count": null,
   "metadata": {},
   "outputs": [],
   "source": [
    "# First attempt to create interactive plot"
   ]
  },
  {
   "cell_type": "code",
   "execution_count": 64,
   "metadata": {
    "scrolled": true
   },
   "outputs": [
    {
     "data": {
      "text/html": [
       "\n",
       "        <iframe\n",
       "            width=\"100%\"\n",
       "            height=\"650\"\n",
       "            src=\"http://127.0.0.1:8050/\"\n",
       "            frameborder=\"0\"\n",
       "            allowfullscreen\n",
       "            \n",
       "        ></iframe>\n",
       "        "
      ],
      "text/plain": [
       "<IPython.lib.display.IFrame at 0x29211fcad00>"
      ]
     },
     "metadata": {},
     "output_type": "display_data"
    }
   ],
   "source": [
    "import pandas as pd\n",
    "import dash\n",
    "from dash import dcc, html\n",
    "from dash.dependencies import Input, Output\n",
    "import plotly.express as px\n",
    "\n",
    "app = dash.Dash(__name__)\n",
    "\n",
    "# Layout of the web app\n",
    "app.layout = html.Div([\n",
    "    html.Label('Select Day of Week:'),\n",
    "    dcc.Dropdown(\n",
    "        id='day-dropdown',\n",
    "        options=[{'label': day, 'value': day} for day in wlgt2022_trips['Day of Week'].unique()],\n",
    "        value=wlgt2022_trips['Day of Week'].unique()[0]\n",
    "    ),\n",
    "    \n",
    "    html.Label('Select Start Time (Sched):'),\n",
    "    dcc.Dropdown(\n",
    "        id='time-dropdown',\n",
    "        options=[{'label': time, 'value': time} for time in wlgt2022_trips['Start Minute (Sched)'].unique()],\n",
    "        value=wlgt2022_trips['Start Minute (Sched)'].unique()[0]\n",
    "    ),\n",
    "    \n",
    "    dcc.Graph(id='co2-cost-plot')\n",
    "])\n",
    "\n",
    "# Callback function to update the plot based on dropdown selections\n",
    "@app.callback(\n",
    "    Output('co2-cost-plot', 'figure'),\n",
    "    [Input('day-dropdown', 'value'), Input('time-dropdown', 'value')]\n",
    ")\n",
    "def update_plot(selected_day, selected_time):\n",
    "    filtered_df = wlgt2022_trips[(wlgt2022_trips['Day of Week'] == selected_day) & (wlgt2022_trips['Start Minute (Sched)'] == selected_time)]\n",
    "    \n",
    "    fig = px.scatter(filtered_df, x='Date', y='CO2cost', title=f'CO2 Cost for {selected_day} - {selected_time}')\n",
    "    \n",
    "    fig.update_xaxes(title_text='Date')\n",
    "    fig.update_yaxes(title_text='CO2 Cost')\n",
    "    \n",
    "    return fig\n",
    "\n",
    "if __name__ == '__main__':\n",
    "    app.run_server(debug=False)\n"
   ]
  },
  {
   "cell_type": "code",
   "execution_count": 90,
   "metadata": {},
   "outputs": [
    {
     "data": {
      "text/html": [
       "\n",
       "        <iframe\n",
       "            width=\"100%\"\n",
       "            height=\"650\"\n",
       "            src=\"http://127.0.0.1:8050/\"\n",
       "            frameborder=\"0\"\n",
       "            allowfullscreen\n",
       "            \n",
       "        ></iframe>\n",
       "        "
      ],
      "text/plain": [
       "<IPython.lib.display.IFrame at 0x29218b3b190>"
      ]
     },
     "metadata": {},
     "output_type": "display_data"
    }
   ],
   "source": [
    "# 2nd attempt, trying to explore what dimentions the plot should have\n",
    "# check package tkinter, gui, flask app\n",
    "app = dash.Dash(__name__)\n",
    "\n",
    "# Layout of the web app\n",
    "app.layout = html.Div([\n",
    "    html.Label('Select Days of the Week:'),\n",
    "    dcc.Checklist(\n",
    "        id='day-checkboxes',\n",
    "        options=[{'label': day, 'value': day} for day in wlgt2022_trips['Day of Week'].unique()],\n",
    "        value=wlgt2022_trips['Day of Week'].unique()  # All days initially selected\n",
    "    ),\n",
    "    \n",
    "    html.Label('Select Start Time (Sched):'),\n",
    "    dcc.Dropdown(\n",
    "        id='time-dropdown',\n",
    "        options=[{'label': time, 'value': time} for time in wlgt2022_trips['Start Minute (Sched)'].unique()],\n",
    "        value=wlgt2022_trips['Start Minute (Sched)'].unique()[0]\n",
    "    ),\n",
    "    \n",
    "    html.Div(id='total-co2-cost'),  # Display the total CO2 cost\n",
    "    dcc.Graph(id='co2-cost-plot')\n",
    "])\n",
    "\n",
    "# Callback function to update the plot based on checkbox selections and time dropdown\n",
    "@app.callback(\n",
    "    [Output('co2-cost-plot', 'figure'), Output('total-co2-cost', 'children')],\n",
    "    [Input('day-checkboxes', 'value'), Input('time-dropdown', 'value')]\n",
    ")\n",
    "def update_plot(selected_days, selected_time):\n",
    "    filtered_df = wlgt2022_trips[(wlgt2022_trips['Day of Week'].isin(selected_days)) & (wlgt2022_trips['Start Minute (Sched)'] == selected_time)]\n",
    "    \n",
    "    total_co2_cost = filtered_df['CO2cost'].sum()  # Calculate the total CO2 cost\n",
    "    \n",
    "    fig = px.scatter(filtered_df, x='Day of Week', y='CO2cost', title=f'CO2 Cost for Days of the Week - {selected_time}')\n",
    "    \n",
    "    fig.update_xaxes(title_text='Day of Week')\n",
    "    fig.update_yaxes(title_text='CO2 Cost')\n",
    "    \n",
    "    return fig, f'Total CO2 Cost: {total_co2_cost:.2f}'\n",
    "\n",
    "if __name__ == '__main__':\n",
    "    app.run_server(debug=False)"
   ]
  },
  {
   "cell_type": "markdown",
   "metadata": {},
   "source": []
  }
 ],
 "metadata": {
  "kernelspec": {
   "display_name": "Python 3 (ipykernel)",
   "language": "python",
   "name": "python3"
  },
  "language_info": {
   "codemirror_mode": {
    "name": "ipython",
    "version": 3
   },
   "file_extension": ".py",
   "mimetype": "text/x-python",
   "name": "python",
   "nbconvert_exporter": "python",
   "pygments_lexer": "ipython3",
   "version": "3.9.12"
  }
 },
 "nbformat": 4,
 "nbformat_minor": 1
}
