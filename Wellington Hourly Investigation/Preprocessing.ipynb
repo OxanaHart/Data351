{
 "cells": [
  {
   "cell_type": "markdown",
   "source": [
    "# Preprocessing Wellington Data\n",
    "\n",
    "**This dataset exclusively covers weekdays, as our focus is on studying the decrease in carbon emissions for buses primarily designated for reducing carbon emissions, rather than buses primarily utilized for passenger transportation.**\n",
    "\n",
    "**While weekend buses tend to be predominantly employed for passenger transportation, it's important to note that weekday buses also serve as a means of passenger transport. However, during weekdays, buses take on an additional role: they are strategically utilized for carbon reduction efforts, particularly during peak hours like 7am-9am and 4pm-6pm.**\n",
    "\n",
    "### NetBI\n",
    "\n",
    "The following dimensions were used to generate the datasets\n",
    "\n",
    "X:\n",
    "- Actual Running Time\n",
    "- Actual In-Service KM\n",
    "- Passenger Km\n",
    "- Scheduled In-Service Km\n",
    "- Cancelled Trips\n",
    "- Sched Running Time per Trip\n",
    "\n",
    "Y:\n",
    "- Data\n",
    "- Route\n",
    "- Route Variant\n",
    "- Direction\n",
    "- Trip Number\n",
    "- Actual Vehicle Type\n",
    "- Vehicle Number\n",
    "- Vehicle Emissions Standard\n",
    "- Start Minute(Sched)\n",
    "- Day\n",
    "\n",
    "### Goals\n",
    "\n",
    "- Split running time into, hourly run time intervals\n",
    "- Calculate Average speed of a bus (distance/time)\n",
    "- Calculate Average Occupancy (passenger Km/ actual km\n",
    "- Calculate Carbon for routes\n",
    "- Calculate the per person carbon emissions reduction\n",
    "\n",
    "### Further Goals\n",
    "\n",
    "- Create Heat Map\n",
    "- Learn how to upload data to mongoDB\n",
    "- Integrate heat map into Bean\n",
    "\n",
    "### Loading Data"
   ],
   "metadata": {
    "collapsed": false
   }
  },
  {
   "cell_type": "code",
   "execution_count": 32,
   "outputs": [
    {
     "data": {
      "text/plain": "              Date Route Route Variant Direction  Trip Number  \\\n0      01-Jan-2022     1           1_1   Inbound       4000.0   \n1      01-Jan-2022     1           1_1   Inbound       4060.0   \n2      01-Jan-2022     1           1_1   Inbound       4100.0   \n3      01-Jan-2022     1           1_1   Inbound       4140.0   \n4      01-Jan-2022     1           1_1   Inbound       4180.0   \n...            ...   ...           ...       ...          ...   \n23410  09-Jan-2022   WHF         WHF_8  Outbound       1048.0   \n23411  09-Jan-2022   WRL         WRL_1   Inbound       1613.0   \n23412  09-Jan-2022   WRL         WRL_1   Inbound       1615.0   \n23413  09-Jan-2022   WRL         WRL_2  Outbound       1614.0   \n23414  09-Jan-2022   WRL         WRL_2  Outbound       1616.0   \n\n      Actual Vehicle Type Vehicle Number Vehicle Emissions Standard  \\\n0                   ELVDD           3705                   ELECTRIC   \n1                   ELVDD           3704                   ELECTRIC   \n2                      LV           3412                      EURO6   \n3                      LV           3401                      EURO6   \n4                   ELVDD           3705                   ELECTRIC   \n...                   ...            ...                        ...   \n23410             Unknown        Unknown                    Unknown   \n23411             Unknown           4398                    Unknown   \n23412             Unknown           4398                    Unknown   \n23413             Unknown           4398                    Unknown   \n23414             Unknown           4398                    Unknown   \n\n      Start Minute (Sched) Actual Running Time Actual In-Service KM  \\\n0                    06:45                 931               21.239   \n1                    07:45               3,134               21.239   \n2                    08:15               3,094               21.239   \n3                    08:45               3,212               21.239   \n4                    09:15                 948               21.239   \n...                    ...                 ...                  ...   \n23410                17:05                   0                0.000   \n23411                07:45               3,174               90.803   \n23412                16:45               3,357               90.803   \n23413                09:55               4,536               90.805   \n23414                18:55               4,132               90.805   \n\n      Passenger km Scheduled In-Service km  Cancelled Trips  \\\n0          120.695                  21.239                0   \n1           42.381                  21.239                0   \n2          127.285                  21.239                0   \n3           69.496                  21.239                0   \n4           73.054                  21.239                0   \n...            ...                     ...              ...   \n23410        0.000                  21.804                0   \n23411        0.000                  90.803                0   \n23412        0.000                  90.803                0   \n23413        0.000                  90.805                0   \n23414        0.000                  90.805                0   \n\n      Sched Running Time per Trip  \n0                           3,720  \n1                           3,720  \n2                           3,720  \n3                           4,080  \n4                           4,080  \n...                           ...  \n23410                       3,000  \n23411                       6,000  \n23412                       6,000  \n23413                       6,000  \n23414                       6,000  \n\n[23415 rows x 15 columns]",
      "text/html": "<div>\n<style scoped>\n    .dataframe tbody tr th:only-of-type {\n        vertical-align: middle;\n    }\n\n    .dataframe tbody tr th {\n        vertical-align: top;\n    }\n\n    .dataframe thead th {\n        text-align: right;\n    }\n</style>\n<table border=\"1\" class=\"dataframe\">\n  <thead>\n    <tr style=\"text-align: right;\">\n      <th></th>\n      <th>Date</th>\n      <th>Route</th>\n      <th>Route Variant</th>\n      <th>Direction</th>\n      <th>Trip Number</th>\n      <th>Actual Vehicle Type</th>\n      <th>Vehicle Number</th>\n      <th>Vehicle Emissions Standard</th>\n      <th>Start Minute (Sched)</th>\n      <th>Actual Running Time</th>\n      <th>Actual In-Service KM</th>\n      <th>Passenger km</th>\n      <th>Scheduled In-Service km</th>\n      <th>Cancelled Trips</th>\n      <th>Sched Running Time per Trip</th>\n    </tr>\n  </thead>\n  <tbody>\n    <tr>\n      <th>0</th>\n      <td>01-Jan-2022</td>\n      <td>1</td>\n      <td>1_1</td>\n      <td>Inbound</td>\n      <td>4000.0</td>\n      <td>ELVDD</td>\n      <td>3705</td>\n      <td>ELECTRIC</td>\n      <td>06:45</td>\n      <td>931</td>\n      <td>21.239</td>\n      <td>120.695</td>\n      <td>21.239</td>\n      <td>0</td>\n      <td>3,720</td>\n    </tr>\n    <tr>\n      <th>1</th>\n      <td>01-Jan-2022</td>\n      <td>1</td>\n      <td>1_1</td>\n      <td>Inbound</td>\n      <td>4060.0</td>\n      <td>ELVDD</td>\n      <td>3704</td>\n      <td>ELECTRIC</td>\n      <td>07:45</td>\n      <td>3,134</td>\n      <td>21.239</td>\n      <td>42.381</td>\n      <td>21.239</td>\n      <td>0</td>\n      <td>3,720</td>\n    </tr>\n    <tr>\n      <th>2</th>\n      <td>01-Jan-2022</td>\n      <td>1</td>\n      <td>1_1</td>\n      <td>Inbound</td>\n      <td>4100.0</td>\n      <td>LV</td>\n      <td>3412</td>\n      <td>EURO6</td>\n      <td>08:15</td>\n      <td>3,094</td>\n      <td>21.239</td>\n      <td>127.285</td>\n      <td>21.239</td>\n      <td>0</td>\n      <td>3,720</td>\n    </tr>\n    <tr>\n      <th>3</th>\n      <td>01-Jan-2022</td>\n      <td>1</td>\n      <td>1_1</td>\n      <td>Inbound</td>\n      <td>4140.0</td>\n      <td>LV</td>\n      <td>3401</td>\n      <td>EURO6</td>\n      <td>08:45</td>\n      <td>3,212</td>\n      <td>21.239</td>\n      <td>69.496</td>\n      <td>21.239</td>\n      <td>0</td>\n      <td>4,080</td>\n    </tr>\n    <tr>\n      <th>4</th>\n      <td>01-Jan-2022</td>\n      <td>1</td>\n      <td>1_1</td>\n      <td>Inbound</td>\n      <td>4180.0</td>\n      <td>ELVDD</td>\n      <td>3705</td>\n      <td>ELECTRIC</td>\n      <td>09:15</td>\n      <td>948</td>\n      <td>21.239</td>\n      <td>73.054</td>\n      <td>21.239</td>\n      <td>0</td>\n      <td>4,080</td>\n    </tr>\n    <tr>\n      <th>...</th>\n      <td>...</td>\n      <td>...</td>\n      <td>...</td>\n      <td>...</td>\n      <td>...</td>\n      <td>...</td>\n      <td>...</td>\n      <td>...</td>\n      <td>...</td>\n      <td>...</td>\n      <td>...</td>\n      <td>...</td>\n      <td>...</td>\n      <td>...</td>\n      <td>...</td>\n    </tr>\n    <tr>\n      <th>23410</th>\n      <td>09-Jan-2022</td>\n      <td>WHF</td>\n      <td>WHF_8</td>\n      <td>Outbound</td>\n      <td>1048.0</td>\n      <td>Unknown</td>\n      <td>Unknown</td>\n      <td>Unknown</td>\n      <td>17:05</td>\n      <td>0</td>\n      <td>0.000</td>\n      <td>0.000</td>\n      <td>21.804</td>\n      <td>0</td>\n      <td>3,000</td>\n    </tr>\n    <tr>\n      <th>23411</th>\n      <td>09-Jan-2022</td>\n      <td>WRL</td>\n      <td>WRL_1</td>\n      <td>Inbound</td>\n      <td>1613.0</td>\n      <td>Unknown</td>\n      <td>4398</td>\n      <td>Unknown</td>\n      <td>07:45</td>\n      <td>3,174</td>\n      <td>90.803</td>\n      <td>0.000</td>\n      <td>90.803</td>\n      <td>0</td>\n      <td>6,000</td>\n    </tr>\n    <tr>\n      <th>23412</th>\n      <td>09-Jan-2022</td>\n      <td>WRL</td>\n      <td>WRL_1</td>\n      <td>Inbound</td>\n      <td>1615.0</td>\n      <td>Unknown</td>\n      <td>4398</td>\n      <td>Unknown</td>\n      <td>16:45</td>\n      <td>3,357</td>\n      <td>90.803</td>\n      <td>0.000</td>\n      <td>90.803</td>\n      <td>0</td>\n      <td>6,000</td>\n    </tr>\n    <tr>\n      <th>23413</th>\n      <td>09-Jan-2022</td>\n      <td>WRL</td>\n      <td>WRL_2</td>\n      <td>Outbound</td>\n      <td>1614.0</td>\n      <td>Unknown</td>\n      <td>4398</td>\n      <td>Unknown</td>\n      <td>09:55</td>\n      <td>4,536</td>\n      <td>90.805</td>\n      <td>0.000</td>\n      <td>90.805</td>\n      <td>0</td>\n      <td>6,000</td>\n    </tr>\n    <tr>\n      <th>23414</th>\n      <td>09-Jan-2022</td>\n      <td>WRL</td>\n      <td>WRL_2</td>\n      <td>Outbound</td>\n      <td>1616.0</td>\n      <td>Unknown</td>\n      <td>4398</td>\n      <td>Unknown</td>\n      <td>18:55</td>\n      <td>4,132</td>\n      <td>90.805</td>\n      <td>0.000</td>\n      <td>90.805</td>\n      <td>0</td>\n      <td>6,000</td>\n    </tr>\n  </tbody>\n</table>\n<p>23415 rows × 15 columns</p>\n</div>"
     },
     "execution_count": 32,
     "metadata": {},
     "output_type": "execute_result"
    }
   ],
   "source": [
    "import pandas as pd\n",
    "\n",
    "jan1_3 = pd.read_csv(\"Wellington Raw Daily Data/Jan 1-3 2022.csv\")\n",
    "jan4_6 = pd.read_csv(\"Wellington Raw Daily Data/Jan 4-6 2022.csv\")\n",
    "jan7_9 = pd.read_csv(\"Wellington Raw Daily Data/Jan 7-9 2022.csv\")\n",
    "\n",
    "dataframes = [jan1_3, jan4_6, jan7_9]\n",
    "\n",
    "# The bottom row of each data frame must be removed due to it being a total column.\n",
    "def drop_last_row(df):\n",
    "    return df.drop(df.tail(1).index)\n",
    "\n",
    "dataframes = list(map(drop_last_row, dataframes))\n",
    "\n",
    "# Stacking Dataframes\n",
    "combined_df = pd.concat(dataframes, ignore_index=True)\n",
    "\n",
    "combined_df"
   ],
   "metadata": {
    "collapsed": false,
    "ExecuteTime": {
     "end_time": "2023-08-30T00:04:22.181953Z",
     "start_time": "2023-08-30T00:04:22.112884Z"
    }
   }
  },
  {
   "cell_type": "markdown",
   "source": [],
   "metadata": {
    "collapsed": false
   }
  }
 ],
 "metadata": {
  "kernelspec": {
   "display_name": "Python 3",
   "language": "python",
   "name": "python3"
  },
  "language_info": {
   "codemirror_mode": {
    "name": "ipython",
    "version": 2
   },
   "file_extension": ".py",
   "mimetype": "text/x-python",
   "name": "python",
   "nbconvert_exporter": "python",
   "pygments_lexer": "ipython2",
   "version": "2.7.6"
  }
 },
 "nbformat": 4,
 "nbformat_minor": 0
}
