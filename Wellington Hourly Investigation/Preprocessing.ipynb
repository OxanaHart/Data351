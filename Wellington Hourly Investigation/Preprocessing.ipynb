{
 "cells": [
  {
   "cell_type": "markdown",
   "source": [
    "# Preprocessing Wellington Data\n",
    "\n",
    "## Goals\n",
    "\n",
    "- Split running time into, hourly run time intervals\n",
    "- Calculate Average speed of a bus (distance/time)\n",
    "- Calculate Average Occupancy (passenger Km/ actual km\n",
    "- Calculate the per person carbon emissions reduction\n",
    "\n",
    "## Further Goals\n",
    "\n",
    "- Create Heat Map\n",
    "- Learn how to upload data to mongoDB\n",
    "- Integrate heat map into Bean\n",
    "\n",
    "## Loading Data"
   ],
   "metadata": {
    "collapsed": false
   }
  },
  {
   "cell_type": "code",
   "execution_count": 21,
   "outputs": [
    {
     "data": {
      "text/plain": "             Date Route Route Variant Direction  Trip Number  \\\n0     01-Jan-2022     1           1_1   Inbound       4000.0   \n1     01-Jan-2022     1           1_1   Inbound       4060.0   \n2     01-Jan-2022     1           1_1   Inbound       4100.0   \n3     01-Jan-2022     1           1_1   Inbound       4140.0   \n4     01-Jan-2022     1           1_1   Inbound       4180.0   \n...           ...   ...           ...       ...          ...   \n5941  03-Jan-2022   WRL         WRL_1   Inbound       1613.0   \n5942  03-Jan-2022   WRL         WRL_1   Inbound       1615.0   \n5943  03-Jan-2022   WRL         WRL_2  Outbound       1614.0   \n5944  03-Jan-2022   WRL         WRL_2  Outbound       1616.0   \n5945        Total   NaN           NaN       NaN          NaN   \n\n     Actual Vehicle Type Vehicle Number Vehicle Emissions Standard  \\\n0                  ELVDD           3705                   ELECTRIC   \n1                  ELVDD           3704                   ELECTRIC   \n2                     LV           3412                      EURO6   \n3                     LV           3401                      EURO6   \n4                  ELVDD           3705                   ELECTRIC   \n...                  ...            ...                        ...   \n5941             Unknown           4398                    Unknown   \n5942             Unknown           4398                    Unknown   \n5943             Unknown           4398                    Unknown   \n5944             Unknown           4398                    Unknown   \n5945                 NaN            NaN                        NaN   \n\n     Start Minute (Sched) Actual Running Time Actual In-Service KM  \\\n0                   06:45                 931               21.239   \n1                   07:45               3,134               21.239   \n2                   08:15               3,094               21.239   \n3                   08:45               3,212               21.239   \n4                   09:15                 948               21.239   \n...                   ...                 ...                  ...   \n5941                07:45               2,237               90.803   \n5942                16:45               6,107               90.803   \n5943                09:55               2,400               90.805   \n5944                18:55               3,494               90.805   \n5945                  NaN           8,393,791           84,162.572   \n\n     Passenger km Scheduled In-Service km  Cancelled Trips  \\\n0         120.695                  21.239                0   \n1          42.381                  21.239                0   \n2         127.285                  21.239                0   \n3          69.496                  21.239                0   \n4          73.054                  21.239                0   \n...           ...                     ...              ...   \n5941        0.000                  90.803                0   \n5942        0.000                  90.803                0   \n5943        0.000                  90.805                0   \n5944        0.000                  90.805                0   \n5945  433,192.059              94,485.527               92   \n\n     Sched Running Time per Trip  \n0                          3,720  \n1                          3,720  \n2                          3,720  \n3                          4,080  \n4                          4,080  \n...                          ...  \n5941                       6,000  \n5942                       6,000  \n5943                       6,000  \n5944                       6,000  \n5945                       2,279  \n\n[5946 rows x 15 columns]",
      "text/html": "<div>\n<style scoped>\n    .dataframe tbody tr th:only-of-type {\n        vertical-align: middle;\n    }\n\n    .dataframe tbody tr th {\n        vertical-align: top;\n    }\n\n    .dataframe thead th {\n        text-align: right;\n    }\n</style>\n<table border=\"1\" class=\"dataframe\">\n  <thead>\n    <tr style=\"text-align: right;\">\n      <th></th>\n      <th>Date</th>\n      <th>Route</th>\n      <th>Route Variant</th>\n      <th>Direction</th>\n      <th>Trip Number</th>\n      <th>Actual Vehicle Type</th>\n      <th>Vehicle Number</th>\n      <th>Vehicle Emissions Standard</th>\n      <th>Start Minute (Sched)</th>\n      <th>Actual Running Time</th>\n      <th>Actual In-Service KM</th>\n      <th>Passenger km</th>\n      <th>Scheduled In-Service km</th>\n      <th>Cancelled Trips</th>\n      <th>Sched Running Time per Trip</th>\n    </tr>\n  </thead>\n  <tbody>\n    <tr>\n      <th>0</th>\n      <td>01-Jan-2022</td>\n      <td>1</td>\n      <td>1_1</td>\n      <td>Inbound</td>\n      <td>4000.0</td>\n      <td>ELVDD</td>\n      <td>3705</td>\n      <td>ELECTRIC</td>\n      <td>06:45</td>\n      <td>931</td>\n      <td>21.239</td>\n      <td>120.695</td>\n      <td>21.239</td>\n      <td>0</td>\n      <td>3,720</td>\n    </tr>\n    <tr>\n      <th>1</th>\n      <td>01-Jan-2022</td>\n      <td>1</td>\n      <td>1_1</td>\n      <td>Inbound</td>\n      <td>4060.0</td>\n      <td>ELVDD</td>\n      <td>3704</td>\n      <td>ELECTRIC</td>\n      <td>07:45</td>\n      <td>3,134</td>\n      <td>21.239</td>\n      <td>42.381</td>\n      <td>21.239</td>\n      <td>0</td>\n      <td>3,720</td>\n    </tr>\n    <tr>\n      <th>2</th>\n      <td>01-Jan-2022</td>\n      <td>1</td>\n      <td>1_1</td>\n      <td>Inbound</td>\n      <td>4100.0</td>\n      <td>LV</td>\n      <td>3412</td>\n      <td>EURO6</td>\n      <td>08:15</td>\n      <td>3,094</td>\n      <td>21.239</td>\n      <td>127.285</td>\n      <td>21.239</td>\n      <td>0</td>\n      <td>3,720</td>\n    </tr>\n    <tr>\n      <th>3</th>\n      <td>01-Jan-2022</td>\n      <td>1</td>\n      <td>1_1</td>\n      <td>Inbound</td>\n      <td>4140.0</td>\n      <td>LV</td>\n      <td>3401</td>\n      <td>EURO6</td>\n      <td>08:45</td>\n      <td>3,212</td>\n      <td>21.239</td>\n      <td>69.496</td>\n      <td>21.239</td>\n      <td>0</td>\n      <td>4,080</td>\n    </tr>\n    <tr>\n      <th>4</th>\n      <td>01-Jan-2022</td>\n      <td>1</td>\n      <td>1_1</td>\n      <td>Inbound</td>\n      <td>4180.0</td>\n      <td>ELVDD</td>\n      <td>3705</td>\n      <td>ELECTRIC</td>\n      <td>09:15</td>\n      <td>948</td>\n      <td>21.239</td>\n      <td>73.054</td>\n      <td>21.239</td>\n      <td>0</td>\n      <td>4,080</td>\n    </tr>\n    <tr>\n      <th>...</th>\n      <td>...</td>\n      <td>...</td>\n      <td>...</td>\n      <td>...</td>\n      <td>...</td>\n      <td>...</td>\n      <td>...</td>\n      <td>...</td>\n      <td>...</td>\n      <td>...</td>\n      <td>...</td>\n      <td>...</td>\n      <td>...</td>\n      <td>...</td>\n      <td>...</td>\n    </tr>\n    <tr>\n      <th>5941</th>\n      <td>03-Jan-2022</td>\n      <td>WRL</td>\n      <td>WRL_1</td>\n      <td>Inbound</td>\n      <td>1613.0</td>\n      <td>Unknown</td>\n      <td>4398</td>\n      <td>Unknown</td>\n      <td>07:45</td>\n      <td>2,237</td>\n      <td>90.803</td>\n      <td>0.000</td>\n      <td>90.803</td>\n      <td>0</td>\n      <td>6,000</td>\n    </tr>\n    <tr>\n      <th>5942</th>\n      <td>03-Jan-2022</td>\n      <td>WRL</td>\n      <td>WRL_1</td>\n      <td>Inbound</td>\n      <td>1615.0</td>\n      <td>Unknown</td>\n      <td>4398</td>\n      <td>Unknown</td>\n      <td>16:45</td>\n      <td>6,107</td>\n      <td>90.803</td>\n      <td>0.000</td>\n      <td>90.803</td>\n      <td>0</td>\n      <td>6,000</td>\n    </tr>\n    <tr>\n      <th>5943</th>\n      <td>03-Jan-2022</td>\n      <td>WRL</td>\n      <td>WRL_2</td>\n      <td>Outbound</td>\n      <td>1614.0</td>\n      <td>Unknown</td>\n      <td>4398</td>\n      <td>Unknown</td>\n      <td>09:55</td>\n      <td>2,400</td>\n      <td>90.805</td>\n      <td>0.000</td>\n      <td>90.805</td>\n      <td>0</td>\n      <td>6,000</td>\n    </tr>\n    <tr>\n      <th>5944</th>\n      <td>03-Jan-2022</td>\n      <td>WRL</td>\n      <td>WRL_2</td>\n      <td>Outbound</td>\n      <td>1616.0</td>\n      <td>Unknown</td>\n      <td>4398</td>\n      <td>Unknown</td>\n      <td>18:55</td>\n      <td>3,494</td>\n      <td>90.805</td>\n      <td>0.000</td>\n      <td>90.805</td>\n      <td>0</td>\n      <td>6,000</td>\n    </tr>\n    <tr>\n      <th>5945</th>\n      <td>Total</td>\n      <td>NaN</td>\n      <td>NaN</td>\n      <td>NaN</td>\n      <td>NaN</td>\n      <td>NaN</td>\n      <td>NaN</td>\n      <td>NaN</td>\n      <td>NaN</td>\n      <td>8,393,791</td>\n      <td>84,162.572</td>\n      <td>433,192.059</td>\n      <td>94,485.527</td>\n      <td>92</td>\n      <td>2,279</td>\n    </tr>\n  </tbody>\n</table>\n<p>5946 rows × 15 columns</p>\n</div>"
     },
     "execution_count": 21,
     "metadata": {},
     "output_type": "execute_result"
    }
   ],
   "source": [
    "import pandas as pd\n",
    "\n",
    "jan = pd.read_csv(\"Wellington Raw Daily Data/Jan 1-3 2022.csv\")\n",
    "jan"
   ],
   "metadata": {
    "collapsed": false,
    "ExecuteTime": {
     "end_time": "2023-08-29T23:49:35.510840Z",
     "start_time": "2023-08-29T23:49:35.476428Z"
    }
   }
  },
  {
   "cell_type": "markdown",
   "source": [
    "#### The bottom row of each data frame must be removed due to it being a total column."
   ],
   "metadata": {
    "collapsed": false
   }
  },
  {
   "cell_type": "code",
   "execution_count": 19,
   "outputs": [],
   "source": [
    "jan = jan.drop(jan.tail(1).index)"
   ],
   "metadata": {
    "collapsed": false,
    "ExecuteTime": {
     "end_time": "2023-08-29T23:43:23.793080Z",
     "start_time": "2023-08-29T23:43:23.785639Z"
    }
   }
  },
  {
   "cell_type": "markdown",
   "source": [
    "#### Now we must bind multiple data frames together so that we can have a month of data"
   ],
   "metadata": {
    "collapsed": false
   }
  },
  {
   "cell_type": "code",
   "execution_count": 24,
   "outputs": [
    {
     "data": {
      "text/plain": "             Date Route Route Variant Direction  Trip Number  \\\n0     04-Jan-2022     1           1_1   Inbound       7000.0   \n1     04-Jan-2022     1           1_1   Inbound       7040.0   \n2     04-Jan-2022     1           1_1   Inbound       7080.0   \n3     04-Jan-2022     1           1_1   Inbound       7120.0   \n4     04-Jan-2022     1           1_1   Inbound       7160.0   \n...           ...   ...           ...       ...          ...   \n9373  06-Jan-2022   WRL         WRL_1   Inbound       1615.0   \n9374  06-Jan-2022   WRL         WRL_2  Outbound       1608.0   \n9375  06-Jan-2022   WRL         WRL_2  Outbound       1614.0   \n9376  06-Jan-2022   WRL         WRL_2  Outbound       1616.0   \n9377        Total   NaN           NaN       NaN          NaN   \n\n     Actual Vehicle Type Vehicle Number Vehicle Emissions Standard  \\\n0                  ELVDD           3705                   ELECTRIC   \n1                     DD           3522                      EURO6   \n2                     LV           3411                      EURO6   \n3                     LV           3432                      EURO6   \n4                  ELVDD           3703                   ELECTRIC   \n...                  ...            ...                        ...   \n9373             Unknown           4064                    Unknown   \n9374             Unknown           4063                    Unknown   \n9375             Unknown           4064                    Unknown   \n9376             Unknown           4064                    Unknown   \n9377                 NaN            NaN                        NaN   \n\n     Start Minute (Sched) Actual Running Time Actual In-Service KM  \\\n0                   07:45               3,123               21.239   \n1                   08:15               3,212               21.239   \n2                   08:45                 720               21.239   \n3                   09:15               3,455               21.239   \n4                   09:45               3,326               21.239   \n...                   ...                 ...                  ...   \n9373                16:45               5,508               90.803   \n9374                17:30               4,589               90.805   \n9375                09:55               6,434               90.805   \n9376                18:55               2,209               90.805   \n9377                  NaN          15,442,794          135,059.156   \n\n     Passenger km Scheduled In-Service km  Cancelled Trips  \\\n0         152.205                  21.239                0   \n1          34.119                  21.239                0   \n2          64.045                  21.239                0   \n3         301.589                  21.239                0   \n4          71.795                  21.239                0   \n...           ...                     ...              ...   \n9373        0.000                  90.803                0   \n9374        0.000                  90.805                0   \n9375        0.000                  90.805                0   \n9376        0.000                  90.805                0   \n9377  847,401.853             139,001.998              197   \n\n     Sched Running Time per Trip  \n0                          3,480  \n1                          3,480  \n2                          3,480  \n3                          3,660  \n4                          3,840  \n...                          ...  \n9373                       6,000  \n9374                       6,300  \n9375                       6,000  \n9376                       6,000  \n9377                       2,334  \n\n[9378 rows x 15 columns]",
      "text/html": "<div>\n<style scoped>\n    .dataframe tbody tr th:only-of-type {\n        vertical-align: middle;\n    }\n\n    .dataframe tbody tr th {\n        vertical-align: top;\n    }\n\n    .dataframe thead th {\n        text-align: right;\n    }\n</style>\n<table border=\"1\" class=\"dataframe\">\n  <thead>\n    <tr style=\"text-align: right;\">\n      <th></th>\n      <th>Date</th>\n      <th>Route</th>\n      <th>Route Variant</th>\n      <th>Direction</th>\n      <th>Trip Number</th>\n      <th>Actual Vehicle Type</th>\n      <th>Vehicle Number</th>\n      <th>Vehicle Emissions Standard</th>\n      <th>Start Minute (Sched)</th>\n      <th>Actual Running Time</th>\n      <th>Actual In-Service KM</th>\n      <th>Passenger km</th>\n      <th>Scheduled In-Service km</th>\n      <th>Cancelled Trips</th>\n      <th>Sched Running Time per Trip</th>\n    </tr>\n  </thead>\n  <tbody>\n    <tr>\n      <th>0</th>\n      <td>04-Jan-2022</td>\n      <td>1</td>\n      <td>1_1</td>\n      <td>Inbound</td>\n      <td>7000.0</td>\n      <td>ELVDD</td>\n      <td>3705</td>\n      <td>ELECTRIC</td>\n      <td>07:45</td>\n      <td>3,123</td>\n      <td>21.239</td>\n      <td>152.205</td>\n      <td>21.239</td>\n      <td>0</td>\n      <td>3,480</td>\n    </tr>\n    <tr>\n      <th>1</th>\n      <td>04-Jan-2022</td>\n      <td>1</td>\n      <td>1_1</td>\n      <td>Inbound</td>\n      <td>7040.0</td>\n      <td>DD</td>\n      <td>3522</td>\n      <td>EURO6</td>\n      <td>08:15</td>\n      <td>3,212</td>\n      <td>21.239</td>\n      <td>34.119</td>\n      <td>21.239</td>\n      <td>0</td>\n      <td>3,480</td>\n    </tr>\n    <tr>\n      <th>2</th>\n      <td>04-Jan-2022</td>\n      <td>1</td>\n      <td>1_1</td>\n      <td>Inbound</td>\n      <td>7080.0</td>\n      <td>LV</td>\n      <td>3411</td>\n      <td>EURO6</td>\n      <td>08:45</td>\n      <td>720</td>\n      <td>21.239</td>\n      <td>64.045</td>\n      <td>21.239</td>\n      <td>0</td>\n      <td>3,480</td>\n    </tr>\n    <tr>\n      <th>3</th>\n      <td>04-Jan-2022</td>\n      <td>1</td>\n      <td>1_1</td>\n      <td>Inbound</td>\n      <td>7120.0</td>\n      <td>LV</td>\n      <td>3432</td>\n      <td>EURO6</td>\n      <td>09:15</td>\n      <td>3,455</td>\n      <td>21.239</td>\n      <td>301.589</td>\n      <td>21.239</td>\n      <td>0</td>\n      <td>3,660</td>\n    </tr>\n    <tr>\n      <th>4</th>\n      <td>04-Jan-2022</td>\n      <td>1</td>\n      <td>1_1</td>\n      <td>Inbound</td>\n      <td>7160.0</td>\n      <td>ELVDD</td>\n      <td>3703</td>\n      <td>ELECTRIC</td>\n      <td>09:45</td>\n      <td>3,326</td>\n      <td>21.239</td>\n      <td>71.795</td>\n      <td>21.239</td>\n      <td>0</td>\n      <td>3,840</td>\n    </tr>\n    <tr>\n      <th>...</th>\n      <td>...</td>\n      <td>...</td>\n      <td>...</td>\n      <td>...</td>\n      <td>...</td>\n      <td>...</td>\n      <td>...</td>\n      <td>...</td>\n      <td>...</td>\n      <td>...</td>\n      <td>...</td>\n      <td>...</td>\n      <td>...</td>\n      <td>...</td>\n      <td>...</td>\n    </tr>\n    <tr>\n      <th>9373</th>\n      <td>06-Jan-2022</td>\n      <td>WRL</td>\n      <td>WRL_1</td>\n      <td>Inbound</td>\n      <td>1615.0</td>\n      <td>Unknown</td>\n      <td>4064</td>\n      <td>Unknown</td>\n      <td>16:45</td>\n      <td>5,508</td>\n      <td>90.803</td>\n      <td>0.000</td>\n      <td>90.803</td>\n      <td>0</td>\n      <td>6,000</td>\n    </tr>\n    <tr>\n      <th>9374</th>\n      <td>06-Jan-2022</td>\n      <td>WRL</td>\n      <td>WRL_2</td>\n      <td>Outbound</td>\n      <td>1608.0</td>\n      <td>Unknown</td>\n      <td>4063</td>\n      <td>Unknown</td>\n      <td>17:30</td>\n      <td>4,589</td>\n      <td>90.805</td>\n      <td>0.000</td>\n      <td>90.805</td>\n      <td>0</td>\n      <td>6,300</td>\n    </tr>\n    <tr>\n      <th>9375</th>\n      <td>06-Jan-2022</td>\n      <td>WRL</td>\n      <td>WRL_2</td>\n      <td>Outbound</td>\n      <td>1614.0</td>\n      <td>Unknown</td>\n      <td>4064</td>\n      <td>Unknown</td>\n      <td>09:55</td>\n      <td>6,434</td>\n      <td>90.805</td>\n      <td>0.000</td>\n      <td>90.805</td>\n      <td>0</td>\n      <td>6,000</td>\n    </tr>\n    <tr>\n      <th>9376</th>\n      <td>06-Jan-2022</td>\n      <td>WRL</td>\n      <td>WRL_2</td>\n      <td>Outbound</td>\n      <td>1616.0</td>\n      <td>Unknown</td>\n      <td>4064</td>\n      <td>Unknown</td>\n      <td>18:55</td>\n      <td>2,209</td>\n      <td>90.805</td>\n      <td>0.000</td>\n      <td>90.805</td>\n      <td>0</td>\n      <td>6,000</td>\n    </tr>\n    <tr>\n      <th>9377</th>\n      <td>Total</td>\n      <td>NaN</td>\n      <td>NaN</td>\n      <td>NaN</td>\n      <td>NaN</td>\n      <td>NaN</td>\n      <td>NaN</td>\n      <td>NaN</td>\n      <td>NaN</td>\n      <td>15,442,794</td>\n      <td>135,059.156</td>\n      <td>847,401.853</td>\n      <td>139,001.998</td>\n      <td>197</td>\n      <td>2,334</td>\n    </tr>\n  </tbody>\n</table>\n<p>9378 rows × 15 columns</p>\n</div>"
     },
     "execution_count": 24,
     "metadata": {},
     "output_type": "execute_result"
    }
   ],
   "source": [
    "jan2 = pd.read_csv(\"Wellington Raw Daily Data/Jan 4-6 2022.csv\")\n",
    "jan2"
   ],
   "metadata": {
    "collapsed": false,
    "ExecuteTime": {
     "end_time": "2023-08-29T23:49:48.224719Z",
     "start_time": "2023-08-29T23:49:48.197343Z"
    }
   }
  },
  {
   "cell_type": "code",
   "execution_count": 25,
   "outputs": [
    {
     "data": {
      "text/plain": "             Date Route Route Variant Direction  Trip Number  \\\n0     07-Jan-2022     1           1_1   Inbound       1020.0   \n1     07-Jan-2022     1           1_1   Inbound       1040.0   \n2     07-Jan-2022     1           1_1   Inbound       1120.0   \n3     07-Jan-2022     1           1_1   Inbound       1180.0   \n4     07-Jan-2022     1           1_1   Inbound       1240.0   \n...           ...   ...           ...       ...          ...   \n8089  09-Jan-2022   WRL         WRL_1   Inbound       1613.0   \n8090  09-Jan-2022   WRL         WRL_1   Inbound       1615.0   \n8091  09-Jan-2022   WRL         WRL_2  Outbound       1614.0   \n8092  09-Jan-2022   WRL         WRL_2  Outbound       1616.0   \n8093        Total   NaN           NaN       NaN          NaN   \n\n     Actual Vehicle Type Vehicle Number Vehicle Emissions Standard  \\\n0                Unknown           3842                    Unknown   \n1                  ELVDD           3707                   ELECTRIC   \n2                     LV           3445                      EURO6   \n3                     LV           3429                      EURO6   \n4                     LV           3422                      EURO6   \n...                  ...            ...                        ...   \n8089             Unknown           4398                    Unknown   \n8090             Unknown           4398                    Unknown   \n8091             Unknown           4398                    Unknown   \n8092             Unknown           4398                    Unknown   \n8093                 NaN            NaN                        NaN   \n\n     Start Minute (Sched) Actual Running Time Actual In-Service KM  \\\n0                   23:45                 877               21.239   \n1                   05:45               2,353               21.239   \n2                   06:45               3,404               21.239   \n3                   07:05               4,444               21.239   \n4                   07:25               3,105               21.239   \n...                   ...                 ...                  ...   \n8089                07:45               3,174               90.803   \n8090                16:45               3,357               90.803   \n8091                09:55               4,536               90.805   \n8092                18:55               4,132               90.805   \n8093                  NaN          12,766,334          119,016.174   \n\n     Passenger km Scheduled In-Service km  Cancelled Trips  \\\n0          26.315                  21.239                0   \n1          75.832                  21.239                0   \n2         269.753                  21.239                0   \n3         138.245                  21.239                0   \n4         243.870                  21.239                0   \n...           ...                     ...              ...   \n8089        0.000                  90.803                0   \n8090        0.000                  90.803                0   \n8091        0.000                  90.805                0   \n8092        0.000                  90.805                0   \n8093  719,255.452             123,714.796              284   \n\n     Sched Running Time per Trip  \n0                          3,120  \n1                          3,480  \n2                          4,020  \n3                          4,860  \n4                          5,580  \n...                          ...  \n8089                       6,000  \n8090                       6,000  \n8091                       6,000  \n8092                       6,000  \n8093                       2,308  \n\n[8094 rows x 15 columns]",
      "text/html": "<div>\n<style scoped>\n    .dataframe tbody tr th:only-of-type {\n        vertical-align: middle;\n    }\n\n    .dataframe tbody tr th {\n        vertical-align: top;\n    }\n\n    .dataframe thead th {\n        text-align: right;\n    }\n</style>\n<table border=\"1\" class=\"dataframe\">\n  <thead>\n    <tr style=\"text-align: right;\">\n      <th></th>\n      <th>Date</th>\n      <th>Route</th>\n      <th>Route Variant</th>\n      <th>Direction</th>\n      <th>Trip Number</th>\n      <th>Actual Vehicle Type</th>\n      <th>Vehicle Number</th>\n      <th>Vehicle Emissions Standard</th>\n      <th>Start Minute (Sched)</th>\n      <th>Actual Running Time</th>\n      <th>Actual In-Service KM</th>\n      <th>Passenger km</th>\n      <th>Scheduled In-Service km</th>\n      <th>Cancelled Trips</th>\n      <th>Sched Running Time per Trip</th>\n    </tr>\n  </thead>\n  <tbody>\n    <tr>\n      <th>0</th>\n      <td>07-Jan-2022</td>\n      <td>1</td>\n      <td>1_1</td>\n      <td>Inbound</td>\n      <td>1020.0</td>\n      <td>Unknown</td>\n      <td>3842</td>\n      <td>Unknown</td>\n      <td>23:45</td>\n      <td>877</td>\n      <td>21.239</td>\n      <td>26.315</td>\n      <td>21.239</td>\n      <td>0</td>\n      <td>3,120</td>\n    </tr>\n    <tr>\n      <th>1</th>\n      <td>07-Jan-2022</td>\n      <td>1</td>\n      <td>1_1</td>\n      <td>Inbound</td>\n      <td>1040.0</td>\n      <td>ELVDD</td>\n      <td>3707</td>\n      <td>ELECTRIC</td>\n      <td>05:45</td>\n      <td>2,353</td>\n      <td>21.239</td>\n      <td>75.832</td>\n      <td>21.239</td>\n      <td>0</td>\n      <td>3,480</td>\n    </tr>\n    <tr>\n      <th>2</th>\n      <td>07-Jan-2022</td>\n      <td>1</td>\n      <td>1_1</td>\n      <td>Inbound</td>\n      <td>1120.0</td>\n      <td>LV</td>\n      <td>3445</td>\n      <td>EURO6</td>\n      <td>06:45</td>\n      <td>3,404</td>\n      <td>21.239</td>\n      <td>269.753</td>\n      <td>21.239</td>\n      <td>0</td>\n      <td>4,020</td>\n    </tr>\n    <tr>\n      <th>3</th>\n      <td>07-Jan-2022</td>\n      <td>1</td>\n      <td>1_1</td>\n      <td>Inbound</td>\n      <td>1180.0</td>\n      <td>LV</td>\n      <td>3429</td>\n      <td>EURO6</td>\n      <td>07:05</td>\n      <td>4,444</td>\n      <td>21.239</td>\n      <td>138.245</td>\n      <td>21.239</td>\n      <td>0</td>\n      <td>4,860</td>\n    </tr>\n    <tr>\n      <th>4</th>\n      <td>07-Jan-2022</td>\n      <td>1</td>\n      <td>1_1</td>\n      <td>Inbound</td>\n      <td>1240.0</td>\n      <td>LV</td>\n      <td>3422</td>\n      <td>EURO6</td>\n      <td>07:25</td>\n      <td>3,105</td>\n      <td>21.239</td>\n      <td>243.870</td>\n      <td>21.239</td>\n      <td>0</td>\n      <td>5,580</td>\n    </tr>\n    <tr>\n      <th>...</th>\n      <td>...</td>\n      <td>...</td>\n      <td>...</td>\n      <td>...</td>\n      <td>...</td>\n      <td>...</td>\n      <td>...</td>\n      <td>...</td>\n      <td>...</td>\n      <td>...</td>\n      <td>...</td>\n      <td>...</td>\n      <td>...</td>\n      <td>...</td>\n      <td>...</td>\n    </tr>\n    <tr>\n      <th>8089</th>\n      <td>09-Jan-2022</td>\n      <td>WRL</td>\n      <td>WRL_1</td>\n      <td>Inbound</td>\n      <td>1613.0</td>\n      <td>Unknown</td>\n      <td>4398</td>\n      <td>Unknown</td>\n      <td>07:45</td>\n      <td>3,174</td>\n      <td>90.803</td>\n      <td>0.000</td>\n      <td>90.803</td>\n      <td>0</td>\n      <td>6,000</td>\n    </tr>\n    <tr>\n      <th>8090</th>\n      <td>09-Jan-2022</td>\n      <td>WRL</td>\n      <td>WRL_1</td>\n      <td>Inbound</td>\n      <td>1615.0</td>\n      <td>Unknown</td>\n      <td>4398</td>\n      <td>Unknown</td>\n      <td>16:45</td>\n      <td>3,357</td>\n      <td>90.803</td>\n      <td>0.000</td>\n      <td>90.803</td>\n      <td>0</td>\n      <td>6,000</td>\n    </tr>\n    <tr>\n      <th>8091</th>\n      <td>09-Jan-2022</td>\n      <td>WRL</td>\n      <td>WRL_2</td>\n      <td>Outbound</td>\n      <td>1614.0</td>\n      <td>Unknown</td>\n      <td>4398</td>\n      <td>Unknown</td>\n      <td>09:55</td>\n      <td>4,536</td>\n      <td>90.805</td>\n      <td>0.000</td>\n      <td>90.805</td>\n      <td>0</td>\n      <td>6,000</td>\n    </tr>\n    <tr>\n      <th>8092</th>\n      <td>09-Jan-2022</td>\n      <td>WRL</td>\n      <td>WRL_2</td>\n      <td>Outbound</td>\n      <td>1616.0</td>\n      <td>Unknown</td>\n      <td>4398</td>\n      <td>Unknown</td>\n      <td>18:55</td>\n      <td>4,132</td>\n      <td>90.805</td>\n      <td>0.000</td>\n      <td>90.805</td>\n      <td>0</td>\n      <td>6,000</td>\n    </tr>\n    <tr>\n      <th>8093</th>\n      <td>Total</td>\n      <td>NaN</td>\n      <td>NaN</td>\n      <td>NaN</td>\n      <td>NaN</td>\n      <td>NaN</td>\n      <td>NaN</td>\n      <td>NaN</td>\n      <td>NaN</td>\n      <td>12,766,334</td>\n      <td>119,016.174</td>\n      <td>719,255.452</td>\n      <td>123,714.796</td>\n      <td>284</td>\n      <td>2,308</td>\n    </tr>\n  </tbody>\n</table>\n<p>8094 rows × 15 columns</p>\n</div>"
     },
     "execution_count": 25,
     "metadata": {},
     "output_type": "execute_result"
    }
   ],
   "source": [
    "jan3 = pd.read_csv(\"Wellington Raw Daily Data/Jan 7-9 2022.csv\")\n",
    "jan3"
   ],
   "metadata": {
    "collapsed": false,
    "ExecuteTime": {
     "end_time": "2023-08-29T23:54:49.826544Z",
     "start_time": "2023-08-29T23:54:49.782204Z"
    }
   }
  },
  {
   "cell_type": "code",
   "execution_count": null,
   "outputs": [],
   "source": [],
   "metadata": {
    "collapsed": false
   }
  }
 ],
 "metadata": {
  "kernelspec": {
   "display_name": "Python 3",
   "language": "python",
   "name": "python3"
  },
  "language_info": {
   "codemirror_mode": {
    "name": "ipython",
    "version": 2
   },
   "file_extension": ".py",
   "mimetype": "text/x-python",
   "name": "python",
   "nbconvert_exporter": "python",
   "pygments_lexer": "ipython2",
   "version": "2.7.6"
  }
 },
 "nbformat": 4,
 "nbformat_minor": 0
}
