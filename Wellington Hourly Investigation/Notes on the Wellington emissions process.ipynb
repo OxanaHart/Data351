{
 "cells": [
  {
   "cell_type": "markdown",
   "id": "3f268ce1",
   "metadata": {},
   "source": [
    "### Where I left off on 6 September (Oxana):\n",
    "\n",
    "- Trying to create an itneractive plot\n",
    "- thinking what should be on X and Y axis of the plot, which should be the filters?\n",
    "- Also at this stage could not figure out how to explort the interactive plot outside of python\n",
    "\n",
    "### Where I left off on 13 September (Oxana):\n",
    "\n",
    "- <input type=\"checkbox\" checked> merged trips data with fleetmaster to find out tareWeight of each bus. About 30% of info missing, checking with Hamish on this.\n",
    "- <input type=\"checkbox\" checked>created function that calculates emissions\n",
    "-<input type=\"checkbox\" checked> added the column to the data that calculates emissions\n",
    "- <input type=\"checkbox\" checked> need to add another calc for emissions for ELECTRIC bus, perhaps its just zero, did not have time to find out<input type=\"checkbox\" checked> \n",
    "- <input type=\"checkbox\" checked> Cleaned up data\n",
    "-  I think when we miss bus Tare weight, emissions calc becomes zero, therefore diluting true emissions size. Think how to fix this.\n",
    "- after the above is ironed out, need to aggregate the data per route per weekday and per hour of the day\n",
    "- next plot it\n",
    "\n",
    "### Where I left off on 19 September (Oxana):\n",
    "\n",
    "- <input type=\"checkbox\" checked> plotted the data in 4 plots: 2 for emissions value on weekdays and weekends and 2 for emissiona savings on weekdays and weekends.\n",
    "- <input type=\"checkbox\" checked> option 1) scatterplot with a dot per trip. COnsidering there are million+ records, a lot fo dots are hidden behild other dots?\n",
    "- <input type=\"checkbox\" checked>option 2) Inomved y scale to go by hour\n",
    "- <input type=\"checkbox\" checked>option 3) aggregated data by route, start time and weekday.\n",
    " - there are 900+ unique Stat Times, so perhaps we will need to aggregate by hour after all.\n",
    "- created some basic interactive plots to attempt exporting them out of python. Exporting is a complicated step and I read a few articles about it, but have not figured out. \n",
    "- Most imporant next step is to figure out how to explort any plot with interactive functionality out of pyton environment"
   ]
  }
 ],
 "metadata": {
  "kernelspec": {
   "display_name": "Python 3 (ipykernel)",
   "language": "python",
   "name": "python3"
  },
  "language_info": {
   "codemirror_mode": {
    "name": "ipython",
    "version": 3
   },
   "file_extension": ".py",
   "mimetype": "text/x-python",
   "name": "python",
   "nbconvert_exporter": "python",
   "pygments_lexer": "ipython3",
   "version": "3.9.12"
  }
 },
 "nbformat": 4,
 "nbformat_minor": 5
}
