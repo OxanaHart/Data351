{
 "cells": [
  {
   "cell_type": "code",
   "execution_count": 1,
   "id": "8b0f1d67",
   "metadata": {},
   "outputs": [],
   "source": [
    "import numpy as np\n",
    "import pandas as pd\n",
    "import matplotlib as mpl\n",
    "import matplotlib.pyplot as plt\n",
    "import datetime"
   ]
  },
  {
   "cell_type": "code",
   "execution_count": 2,
   "id": "339074f7",
   "metadata": {},
   "outputs": [],
   "source": [
    "#reading in the data\n",
    "\n",
    "routes = pd.read_csv('GTFS data waikato/routes.txt')\n",
    "\n",
    "trips = pd.read_csv('GTFS data waikato/trips.txt')\n",
    "\n",
    "stops = pd.read_csv('GTFS data waikato/stop_times.txt', low_memory=False)\n",
    "\n",
    "calendar = pd.read_csv(\"GTFS data waikato/calendar.txt\")\n",
    "exceptions = pd.read_csv('GTFS data waikato/calendar_dates.txt')\n"
   ]
  },
  {
   "cell_type": "code",
   "execution_count": 3,
   "id": "d9ecb13b",
   "metadata": {
    "scrolled": true
   },
   "outputs": [],
   "source": [
    "# reducing stops table to necessary data only\n",
    "\n",
    "stops = stops[['trip_id', 'arrival_time', 'departure_time', 'stop_id', 'stop_sequence', 'shape_dist_traveled','timepoint']]\n",
    "\n",
    "# Select only the rows with the minimum and maximum 'stop_sequence' for each unique 'trip_id'\n",
    "min_max_stops = stops.loc[stops.groupby('trip_id')['stop_sequence'].idxmin()] #minimum\n",
    "min_max_stops = pd.concat([min_max_stops, stops.loc[stops.groupby('trip_id')['stop_sequence'].idxmax()]]) #maximum"
   ]
  },
  {
   "cell_type": "code",
   "execution_count": 4,
   "id": "954216db",
   "metadata": {
    "scrolled": true
   },
   "outputs": [],
   "source": [
    "# Calculate the time difference between the first and last stop sequence for each trip_id and convert to hours\n",
    "min_max_stops['trip_duration'] = min_max_stops.groupby('trip_id')['departure_time'].transform(lambda x: (pd.to_datetime(x).max() - pd.to_datetime(x).min()).total_seconds() / 3600)"
   ]
  },
  {
   "cell_type": "code",
   "execution_count": 5,
   "id": "92d07dba",
   "metadata": {},
   "outputs": [],
   "source": [
    "# calculate bus speed\n",
    "\n",
    "min_max_stops['speed'] = min_max_stops['shape_dist_traveled']/(1000*min_max_stops['trip_duration'])"
   ]
  },
  {
   "cell_type": "code",
   "execution_count": 6,
   "id": "db4857fb",
   "metadata": {},
   "outputs": [
    {
     "data": {
      "text/html": [
       "<div>\n",
       "<style scoped>\n",
       "    .dataframe tbody tr th:only-of-type {\n",
       "        vertical-align: middle;\n",
       "    }\n",
       "\n",
       "    .dataframe tbody tr th {\n",
       "        vertical-align: top;\n",
       "    }\n",
       "\n",
       "    .dataframe thead th {\n",
       "        text-align: right;\n",
       "    }\n",
       "</style>\n",
       "<table border=\"1\" class=\"dataframe\">\n",
       "  <thead>\n",
       "    <tr style=\"text-align: right;\">\n",
       "      <th></th>\n",
       "      <th>trip_id</th>\n",
       "      <th>stop_id</th>\n",
       "      <th>stop_sequence</th>\n",
       "      <th>shape_dist_traveled</th>\n",
       "      <th>timepoint</th>\n",
       "      <th>trip_duration</th>\n",
       "      <th>speed</th>\n",
       "    </tr>\n",
       "  </thead>\n",
       "  <tbody>\n",
       "    <tr>\n",
       "      <th>count</th>\n",
       "      <td>7067.000000</td>\n",
       "      <td>7.067000e+03</td>\n",
       "      <td>7067.000000</td>\n",
       "      <td>7067.000000</td>\n",
       "      <td>7067.000000</td>\n",
       "      <td>7067.000000</td>\n",
       "      <td>7067.000000</td>\n",
       "    </tr>\n",
       "    <tr>\n",
       "      <th>mean</th>\n",
       "      <td>3593.278336</td>\n",
       "      <td>1.400436e+07</td>\n",
       "      <td>37.516061</td>\n",
       "      <td>19987.086145</td>\n",
       "      <td>0.998868</td>\n",
       "      <td>0.705931</td>\n",
       "      <td>26.603834</td>\n",
       "    </tr>\n",
       "    <tr>\n",
       "      <th>std</th>\n",
       "      <td>2324.656770</td>\n",
       "      <td>2.778971e+03</td>\n",
       "      <td>15.613480</td>\n",
       "      <td>18288.929848</td>\n",
       "      <td>0.033629</td>\n",
       "      <td>0.407792</td>\n",
       "      <td>6.969872</td>\n",
       "    </tr>\n",
       "    <tr>\n",
       "      <th>min</th>\n",
       "      <td>1.000000</td>\n",
       "      <td>1.400106e+07</td>\n",
       "      <td>4.000000</td>\n",
       "      <td>3808.110805</td>\n",
       "      <td>0.000000</td>\n",
       "      <td>0.100000</td>\n",
       "      <td>13.987626</td>\n",
       "    </tr>\n",
       "    <tr>\n",
       "      <th>25%</th>\n",
       "      <td>1767.500000</td>\n",
       "      <td>1.400253e+07</td>\n",
       "      <td>28.000000</td>\n",
       "      <td>10406.747951</td>\n",
       "      <td>1.000000</td>\n",
       "      <td>0.416667</td>\n",
       "      <td>22.627042</td>\n",
       "    </tr>\n",
       "    <tr>\n",
       "      <th>50%</th>\n",
       "      <td>3534.000000</td>\n",
       "      <td>1.400253e+07</td>\n",
       "      <td>34.000000</td>\n",
       "      <td>12975.730830</td>\n",
       "      <td>1.000000</td>\n",
       "      <td>0.533333</td>\n",
       "      <td>25.352968</td>\n",
       "    </tr>\n",
       "    <tr>\n",
       "      <th>75%</th>\n",
       "      <td>5300.500000</td>\n",
       "      <td>1.400799e+07</td>\n",
       "      <td>42.000000</td>\n",
       "      <td>25882.780541</td>\n",
       "      <td>1.000000</td>\n",
       "      <td>0.833333</td>\n",
       "      <td>28.080060</td>\n",
       "    </tr>\n",
       "    <tr>\n",
       "      <th>max</th>\n",
       "      <td>21031.000000</td>\n",
       "      <td>1.400897e+07</td>\n",
       "      <td>77.000000</td>\n",
       "      <td>135294.119197</td>\n",
       "      <td>1.000000</td>\n",
       "      <td>2.566667</td>\n",
       "      <td>65.767724</td>\n",
       "    </tr>\n",
       "  </tbody>\n",
       "</table>\n",
       "</div>"
      ],
      "text/plain": [
       "            trip_id       stop_id  stop_sequence  shape_dist_traveled  \\\n",
       "count   7067.000000  7.067000e+03    7067.000000          7067.000000   \n",
       "mean    3593.278336  1.400436e+07      37.516061         19987.086145   \n",
       "std     2324.656770  2.778971e+03      15.613480         18288.929848   \n",
       "min        1.000000  1.400106e+07       4.000000          3808.110805   \n",
       "25%     1767.500000  1.400253e+07      28.000000         10406.747951   \n",
       "50%     3534.000000  1.400253e+07      34.000000         12975.730830   \n",
       "75%     5300.500000  1.400799e+07      42.000000         25882.780541   \n",
       "max    21031.000000  1.400897e+07      77.000000        135294.119197   \n",
       "\n",
       "         timepoint  trip_duration        speed  \n",
       "count  7067.000000    7067.000000  7067.000000  \n",
       "mean      0.998868       0.705931    26.603834  \n",
       "std       0.033629       0.407792     6.969872  \n",
       "min       0.000000       0.100000    13.987626  \n",
       "25%       1.000000       0.416667    22.627042  \n",
       "50%       1.000000       0.533333    25.352968  \n",
       "75%       1.000000       0.833333    28.080060  \n",
       "max       1.000000       2.566667    65.767724  "
      ]
     },
     "execution_count": 6,
     "metadata": {},
     "output_type": "execute_result"
    }
   ],
   "source": [
    "# Now select only entries for the last stop, remove entries for the 1st stop of the trip\n",
    "min_max_stops = min_max_stops[min_max_stops['stop_sequence'] != 1]\n",
    "min_max_stops.describe()"
   ]
  },
  {
   "cell_type": "code",
   "execution_count": 7,
   "id": "082260a7",
   "metadata": {},
   "outputs": [],
   "source": [
    "# covert trip_id to integer which is currently as object and therefore is not possible to do a merge\n",
    "min_max_stops['trip_id'] = min_max_stops['trip_id'].astype(int)"
   ]
  },
  {
   "cell_type": "code",
   "execution_count": 8,
   "id": "9ac6736b",
   "metadata": {
    "scrolled": true
   },
   "outputs": [],
   "source": [
    "# Merge dataframes based on 'trip_id' column with 'outer' join\n",
    "stops_trips = pd.merge(trips[['route_id', 'service_id', 'trip_id', 'trip_short_name', 'trip_headsign', 'direction_id',\n",
    "                             'block_id', 'shape_id', 'operator_id']], min_max_stops, on=['trip_id'], how='outer')"
   ]
  },
  {
   "cell_type": "code",
   "execution_count": 9,
   "id": "32629266",
   "metadata": {
    "scrolled": true
   },
   "outputs": [],
   "source": [
    "# merge tirp, stop_times and routes data\n",
    "\n",
    "routes_trips_stops = pd.merge(routes[['agency_id','route_id','route_short_name','route_long_name','route_type',\n",
    "                                      'route_sort_order']], \n",
    "                              stops_trips[['route_id','service_id','trip_id','trip_short_name','trip_headsign', 'operator_id', 'shape_dist_traveled', 'trip_duration', 'speed']], on=['route_id'], how='outer')"
   ]
  },
  {
   "cell_type": "code",
   "execution_count": 17,
   "id": "8271dbc1",
   "metadata": {
    "scrolled": true
   },
   "outputs": [
    {
     "data": {
      "text/plain": [
       "Timestamp('2022-12-31 00:00:00')"
      ]
     },
     "execution_count": 17,
     "metadata": {},
     "output_type": "execute_result"
    }
   ],
   "source": [
    "# Manipulate calendar dataframe\n",
    "calendar = pd.read_csv(\"GTFS data waikato/calendar.txt\")\n",
    "# Convert start_date and end_date columns to datetime\n",
    "calendar['start_date'] = pd.to_datetime(calendar['start_date'], format='%Y%m%d')\n",
    "calendar['end_date'] = pd.to_datetime(calendar['end_date'], format='%Y%m%d')\n",
    "\n",
    "# Filter for year 2022\n",
    "calendar = calendar[calendar['start_date'].dt.year == 2022]\n",
    "\n",
    "# change the end date of service to last day of 2022 to avoid having data beyond 2022\n",
    "\n",
    "# Define the threshold date\n",
    "threshold_date = pd.to_datetime('2022-12-31')\n",
    "\n",
    "# Replace values greater than the threshold with the threshold date\n",
    "calendar.loc[calendar['end_date'] > threshold_date, 'end_date'] = threshold_date\n"
   ]
  },
  {
   "cell_type": "code",
   "execution_count": 18,
   "id": "da9d0de5",
   "metadata": {},
   "outputs": [
    {
     "name": "stderr",
     "output_type": "stream",
     "text": [
      "C:\\Users\\oxant\\AppData\\Local\\Temp\\ipykernel_13512\\1051353361.py:28: FutureWarning: The frame.append method is deprecated and will be removed from pandas in a future version. Use pandas.concat instead.\n",
      "  new_calendar = new_calendar.append(new_row,ignore_index=True)\n",
      "C:\\Users\\oxant\\AppData\\Local\\Temp\\ipykernel_13512\\1051353361.py:28: FutureWarning: The frame.append method is deprecated and will be removed from pandas in a future version. Use pandas.concat instead.\n",
      "  new_calendar = new_calendar.append(new_row,ignore_index=True)\n",
      "C:\\Users\\oxant\\AppData\\Local\\Temp\\ipykernel_13512\\1051353361.py:28: FutureWarning: The frame.append method is deprecated and will be removed from pandas in a future version. Use pandas.concat instead.\n",
      "  new_calendar = new_calendar.append(new_row,ignore_index=True)\n",
      "C:\\Users\\oxant\\AppData\\Local\\Temp\\ipykernel_13512\\1051353361.py:28: FutureWarning: The frame.append method is deprecated and will be removed from pandas in a future version. Use pandas.concat instead.\n",
      "  new_calendar = new_calendar.append(new_row,ignore_index=True)\n",
      "C:\\Users\\oxant\\AppData\\Local\\Temp\\ipykernel_13512\\1051353361.py:28: FutureWarning: The frame.append method is deprecated and will be removed from pandas in a future version. Use pandas.concat instead.\n",
      "  new_calendar = new_calendar.append(new_row,ignore_index=True)\n",
      "C:\\Users\\oxant\\AppData\\Local\\Temp\\ipykernel_13512\\1051353361.py:28: FutureWarning: The frame.append method is deprecated and will be removed from pandas in a future version. Use pandas.concat instead.\n",
      "  new_calendar = new_calendar.append(new_row,ignore_index=True)\n",
      "C:\\Users\\oxant\\AppData\\Local\\Temp\\ipykernel_13512\\1051353361.py:28: FutureWarning: The frame.append method is deprecated and will be removed from pandas in a future version. Use pandas.concat instead.\n",
      "  new_calendar = new_calendar.append(new_row,ignore_index=True)\n",
      "C:\\Users\\oxant\\AppData\\Local\\Temp\\ipykernel_13512\\1051353361.py:28: FutureWarning: The frame.append method is deprecated and will be removed from pandas in a future version. Use pandas.concat instead.\n",
      "  new_calendar = new_calendar.append(new_row,ignore_index=True)\n",
      "C:\\Users\\oxant\\AppData\\Local\\Temp\\ipykernel_13512\\1051353361.py:28: FutureWarning: The frame.append method is deprecated and will be removed from pandas in a future version. Use pandas.concat instead.\n",
      "  new_calendar = new_calendar.append(new_row,ignore_index=True)\n",
      "C:\\Users\\oxant\\AppData\\Local\\Temp\\ipykernel_13512\\1051353361.py:28: FutureWarning: The frame.append method is deprecated and will be removed from pandas in a future version. Use pandas.concat instead.\n",
      "  new_calendar = new_calendar.append(new_row,ignore_index=True)\n",
      "C:\\Users\\oxant\\AppData\\Local\\Temp\\ipykernel_13512\\1051353361.py:28: FutureWarning: The frame.append method is deprecated and will be removed from pandas in a future version. Use pandas.concat instead.\n",
      "  new_calendar = new_calendar.append(new_row,ignore_index=True)\n",
      "C:\\Users\\oxant\\AppData\\Local\\Temp\\ipykernel_13512\\1051353361.py:28: FutureWarning: The frame.append method is deprecated and will be removed from pandas in a future version. Use pandas.concat instead.\n",
      "  new_calendar = new_calendar.append(new_row,ignore_index=True)\n",
      "C:\\Users\\oxant\\AppData\\Local\\Temp\\ipykernel_13512\\1051353361.py:28: FutureWarning: The frame.append method is deprecated and will be removed from pandas in a future version. Use pandas.concat instead.\n",
      "  new_calendar = new_calendar.append(new_row,ignore_index=True)\n",
      "C:\\Users\\oxant\\AppData\\Local\\Temp\\ipykernel_13512\\1051353361.py:28: FutureWarning: The frame.append method is deprecated and will be removed from pandas in a future version. Use pandas.concat instead.\n",
      "  new_calendar = new_calendar.append(new_row,ignore_index=True)\n",
      "C:\\Users\\oxant\\AppData\\Local\\Temp\\ipykernel_13512\\1051353361.py:28: FutureWarning: The frame.append method is deprecated and will be removed from pandas in a future version. Use pandas.concat instead.\n",
      "  new_calendar = new_calendar.append(new_row,ignore_index=True)\n",
      "C:\\Users\\oxant\\AppData\\Local\\Temp\\ipykernel_13512\\1051353361.py:28: FutureWarning: The frame.append method is deprecated and will be removed from pandas in a future version. Use pandas.concat instead.\n",
      "  new_calendar = new_calendar.append(new_row,ignore_index=True)\n",
      "C:\\Users\\oxant\\AppData\\Local\\Temp\\ipykernel_13512\\1051353361.py:28: FutureWarning: The frame.append method is deprecated and will be removed from pandas in a future version. Use pandas.concat instead.\n",
      "  new_calendar = new_calendar.append(new_row,ignore_index=True)\n",
      "C:\\Users\\oxant\\AppData\\Local\\Temp\\ipykernel_13512\\1051353361.py:28: FutureWarning: The frame.append method is deprecated and will be removed from pandas in a future version. Use pandas.concat instead.\n",
      "  new_calendar = new_calendar.append(new_row,ignore_index=True)\n",
      "C:\\Users\\oxant\\AppData\\Local\\Temp\\ipykernel_13512\\1051353361.py:28: FutureWarning: The frame.append method is deprecated and will be removed from pandas in a future version. Use pandas.concat instead.\n",
      "  new_calendar = new_calendar.append(new_row,ignore_index=True)\n",
      "C:\\Users\\oxant\\AppData\\Local\\Temp\\ipykernel_13512\\1051353361.py:28: FutureWarning: The frame.append method is deprecated and will be removed from pandas in a future version. Use pandas.concat instead.\n",
      "  new_calendar = new_calendar.append(new_row,ignore_index=True)\n",
      "C:\\Users\\oxant\\AppData\\Local\\Temp\\ipykernel_13512\\1051353361.py:28: FutureWarning: The frame.append method is deprecated and will be removed from pandas in a future version. Use pandas.concat instead.\n",
      "  new_calendar = new_calendar.append(new_row,ignore_index=True)\n",
      "C:\\Users\\oxant\\AppData\\Local\\Temp\\ipykernel_13512\\1051353361.py:28: FutureWarning: The frame.append method is deprecated and will be removed from pandas in a future version. Use pandas.concat instead.\n",
      "  new_calendar = new_calendar.append(new_row,ignore_index=True)\n",
      "C:\\Users\\oxant\\AppData\\Local\\Temp\\ipykernel_13512\\1051353361.py:28: FutureWarning: The frame.append method is deprecated and will be removed from pandas in a future version. Use pandas.concat instead.\n",
      "  new_calendar = new_calendar.append(new_row,ignore_index=True)\n",
      "C:\\Users\\oxant\\AppData\\Local\\Temp\\ipykernel_13512\\1051353361.py:28: FutureWarning: The frame.append method is deprecated and will be removed from pandas in a future version. Use pandas.concat instead.\n",
      "  new_calendar = new_calendar.append(new_row,ignore_index=True)\n",
      "C:\\Users\\oxant\\AppData\\Local\\Temp\\ipykernel_13512\\1051353361.py:28: FutureWarning: The frame.append method is deprecated and will be removed from pandas in a future version. Use pandas.concat instead.\n",
      "  new_calendar = new_calendar.append(new_row,ignore_index=True)\n",
      "C:\\Users\\oxant\\AppData\\Local\\Temp\\ipykernel_13512\\1051353361.py:28: FutureWarning: The frame.append method is deprecated and will be removed from pandas in a future version. Use pandas.concat instead.\n",
      "  new_calendar = new_calendar.append(new_row,ignore_index=True)\n",
      "C:\\Users\\oxant\\AppData\\Local\\Temp\\ipykernel_13512\\1051353361.py:28: FutureWarning: The frame.append method is deprecated and will be removed from pandas in a future version. Use pandas.concat instead.\n",
      "  new_calendar = new_calendar.append(new_row,ignore_index=True)\n",
      "C:\\Users\\oxant\\AppData\\Local\\Temp\\ipykernel_13512\\1051353361.py:28: FutureWarning: The frame.append method is deprecated and will be removed from pandas in a future version. Use pandas.concat instead.\n",
      "  new_calendar = new_calendar.append(new_row,ignore_index=True)\n",
      "C:\\Users\\oxant\\AppData\\Local\\Temp\\ipykernel_13512\\1051353361.py:28: FutureWarning: The frame.append method is deprecated and will be removed from pandas in a future version. Use pandas.concat instead.\n",
      "  new_calendar = new_calendar.append(new_row,ignore_index=True)\n",
      "C:\\Users\\oxant\\AppData\\Local\\Temp\\ipykernel_13512\\1051353361.py:28: FutureWarning: The frame.append method is deprecated and will be removed from pandas in a future version. Use pandas.concat instead.\n",
      "  new_calendar = new_calendar.append(new_row,ignore_index=True)\n",
      "C:\\Users\\oxant\\AppData\\Local\\Temp\\ipykernel_13512\\1051353361.py:28: FutureWarning: The frame.append method is deprecated and will be removed from pandas in a future version. Use pandas.concat instead.\n",
      "  new_calendar = new_calendar.append(new_row,ignore_index=True)\n",
      "C:\\Users\\oxant\\AppData\\Local\\Temp\\ipykernel_13512\\1051353361.py:28: FutureWarning: The frame.append method is deprecated and will be removed from pandas in a future version. Use pandas.concat instead.\n",
      "  new_calendar = new_calendar.append(new_row,ignore_index=True)\n",
      "C:\\Users\\oxant\\AppData\\Local\\Temp\\ipykernel_13512\\1051353361.py:28: FutureWarning: The frame.append method is deprecated and will be removed from pandas in a future version. Use pandas.concat instead.\n",
      "  new_calendar = new_calendar.append(new_row,ignore_index=True)\n",
      "C:\\Users\\oxant\\AppData\\Local\\Temp\\ipykernel_13512\\1051353361.py:28: FutureWarning: The frame.append method is deprecated and will be removed from pandas in a future version. Use pandas.concat instead.\n",
      "  new_calendar = new_calendar.append(new_row,ignore_index=True)\n",
      "C:\\Users\\oxant\\AppData\\Local\\Temp\\ipykernel_13512\\1051353361.py:28: FutureWarning: The frame.append method is deprecated and will be removed from pandas in a future version. Use pandas.concat instead.\n",
      "  new_calendar = new_calendar.append(new_row,ignore_index=True)\n",
      "C:\\Users\\oxant\\AppData\\Local\\Temp\\ipykernel_13512\\1051353361.py:28: FutureWarning: The frame.append method is deprecated and will be removed from pandas in a future version. Use pandas.concat instead.\n",
      "  new_calendar = new_calendar.append(new_row,ignore_index=True)\n",
      "C:\\Users\\oxant\\AppData\\Local\\Temp\\ipykernel_13512\\1051353361.py:28: FutureWarning: The frame.append method is deprecated and will be removed from pandas in a future version. Use pandas.concat instead.\n",
      "  new_calendar = new_calendar.append(new_row,ignore_index=True)\n",
      "C:\\Users\\oxant\\AppData\\Local\\Temp\\ipykernel_13512\\1051353361.py:28: FutureWarning: The frame.append method is deprecated and will be removed from pandas in a future version. Use pandas.concat instead.\n",
      "  new_calendar = new_calendar.append(new_row,ignore_index=True)\n",
      "C:\\Users\\oxant\\AppData\\Local\\Temp\\ipykernel_13512\\1051353361.py:28: FutureWarning: The frame.append method is deprecated and will be removed from pandas in a future version. Use pandas.concat instead.\n",
      "  new_calendar = new_calendar.append(new_row,ignore_index=True)\n"
     ]
    },
    {
     "name": "stderr",
     "output_type": "stream",
     "text": [
      "C:\\Users\\oxant\\AppData\\Local\\Temp\\ipykernel_13512\\1051353361.py:28: FutureWarning: The frame.append method is deprecated and will be removed from pandas in a future version. Use pandas.concat instead.\n",
      "  new_calendar = new_calendar.append(new_row,ignore_index=True)\n",
      "C:\\Users\\oxant\\AppData\\Local\\Temp\\ipykernel_13512\\1051353361.py:28: FutureWarning: The frame.append method is deprecated and will be removed from pandas in a future version. Use pandas.concat instead.\n",
      "  new_calendar = new_calendar.append(new_row,ignore_index=True)\n",
      "C:\\Users\\oxant\\AppData\\Local\\Temp\\ipykernel_13512\\1051353361.py:28: FutureWarning: The frame.append method is deprecated and will be removed from pandas in a future version. Use pandas.concat instead.\n",
      "  new_calendar = new_calendar.append(new_row,ignore_index=True)\n",
      "C:\\Users\\oxant\\AppData\\Local\\Temp\\ipykernel_13512\\1051353361.py:28: FutureWarning: The frame.append method is deprecated and will be removed from pandas in a future version. Use pandas.concat instead.\n",
      "  new_calendar = new_calendar.append(new_row,ignore_index=True)\n",
      "C:\\Users\\oxant\\AppData\\Local\\Temp\\ipykernel_13512\\1051353361.py:28: FutureWarning: The frame.append method is deprecated and will be removed from pandas in a future version. Use pandas.concat instead.\n",
      "  new_calendar = new_calendar.append(new_row,ignore_index=True)\n",
      "C:\\Users\\oxant\\AppData\\Local\\Temp\\ipykernel_13512\\1051353361.py:28: FutureWarning: The frame.append method is deprecated and will be removed from pandas in a future version. Use pandas.concat instead.\n",
      "  new_calendar = new_calendar.append(new_row,ignore_index=True)\n",
      "C:\\Users\\oxant\\AppData\\Local\\Temp\\ipykernel_13512\\1051353361.py:28: FutureWarning: The frame.append method is deprecated and will be removed from pandas in a future version. Use pandas.concat instead.\n",
      "  new_calendar = new_calendar.append(new_row,ignore_index=True)\n",
      "C:\\Users\\oxant\\AppData\\Local\\Temp\\ipykernel_13512\\1051353361.py:28: FutureWarning: The frame.append method is deprecated and will be removed from pandas in a future version. Use pandas.concat instead.\n",
      "  new_calendar = new_calendar.append(new_row,ignore_index=True)\n",
      "C:\\Users\\oxant\\AppData\\Local\\Temp\\ipykernel_13512\\1051353361.py:28: FutureWarning: The frame.append method is deprecated and will be removed from pandas in a future version. Use pandas.concat instead.\n",
      "  new_calendar = new_calendar.append(new_row,ignore_index=True)\n",
      "C:\\Users\\oxant\\AppData\\Local\\Temp\\ipykernel_13512\\1051353361.py:28: FutureWarning: The frame.append method is deprecated and will be removed from pandas in a future version. Use pandas.concat instead.\n",
      "  new_calendar = new_calendar.append(new_row,ignore_index=True)\n",
      "C:\\Users\\oxant\\AppData\\Local\\Temp\\ipykernel_13512\\1051353361.py:28: FutureWarning: The frame.append method is deprecated and will be removed from pandas in a future version. Use pandas.concat instead.\n",
      "  new_calendar = new_calendar.append(new_row,ignore_index=True)\n",
      "C:\\Users\\oxant\\AppData\\Local\\Temp\\ipykernel_13512\\1051353361.py:28: FutureWarning: The frame.append method is deprecated and will be removed from pandas in a future version. Use pandas.concat instead.\n",
      "  new_calendar = new_calendar.append(new_row,ignore_index=True)\n",
      "C:\\Users\\oxant\\AppData\\Local\\Temp\\ipykernel_13512\\1051353361.py:28: FutureWarning: The frame.append method is deprecated and will be removed from pandas in a future version. Use pandas.concat instead.\n",
      "  new_calendar = new_calendar.append(new_row,ignore_index=True)\n",
      "C:\\Users\\oxant\\AppData\\Local\\Temp\\ipykernel_13512\\1051353361.py:28: FutureWarning: The frame.append method is deprecated and will be removed from pandas in a future version. Use pandas.concat instead.\n",
      "  new_calendar = new_calendar.append(new_row,ignore_index=True)\n",
      "C:\\Users\\oxant\\AppData\\Local\\Temp\\ipykernel_13512\\1051353361.py:28: FutureWarning: The frame.append method is deprecated and will be removed from pandas in a future version. Use pandas.concat instead.\n",
      "  new_calendar = new_calendar.append(new_row,ignore_index=True)\n",
      "C:\\Users\\oxant\\AppData\\Local\\Temp\\ipykernel_13512\\1051353361.py:28: FutureWarning: The frame.append method is deprecated and will be removed from pandas in a future version. Use pandas.concat instead.\n",
      "  new_calendar = new_calendar.append(new_row,ignore_index=True)\n",
      "C:\\Users\\oxant\\AppData\\Local\\Temp\\ipykernel_13512\\1051353361.py:28: FutureWarning: The frame.append method is deprecated and will be removed from pandas in a future version. Use pandas.concat instead.\n",
      "  new_calendar = new_calendar.append(new_row,ignore_index=True)\n",
      "C:\\Users\\oxant\\AppData\\Local\\Temp\\ipykernel_13512\\1051353361.py:28: FutureWarning: The frame.append method is deprecated and will be removed from pandas in a future version. Use pandas.concat instead.\n",
      "  new_calendar = new_calendar.append(new_row,ignore_index=True)\n",
      "C:\\Users\\oxant\\AppData\\Local\\Temp\\ipykernel_13512\\1051353361.py:28: FutureWarning: The frame.append method is deprecated and will be removed from pandas in a future version. Use pandas.concat instead.\n",
      "  new_calendar = new_calendar.append(new_row,ignore_index=True)\n",
      "C:\\Users\\oxant\\AppData\\Local\\Temp\\ipykernel_13512\\1051353361.py:28: FutureWarning: The frame.append method is deprecated and will be removed from pandas in a future version. Use pandas.concat instead.\n",
      "  new_calendar = new_calendar.append(new_row,ignore_index=True)\n",
      "C:\\Users\\oxant\\AppData\\Local\\Temp\\ipykernel_13512\\1051353361.py:28: FutureWarning: The frame.append method is deprecated and will be removed from pandas in a future version. Use pandas.concat instead.\n",
      "  new_calendar = new_calendar.append(new_row,ignore_index=True)\n",
      "C:\\Users\\oxant\\AppData\\Local\\Temp\\ipykernel_13512\\1051353361.py:28: FutureWarning: The frame.append method is deprecated and will be removed from pandas in a future version. Use pandas.concat instead.\n",
      "  new_calendar = new_calendar.append(new_row,ignore_index=True)\n"
     ]
    },
    {
     "ename": "KeyError",
     "evalue": "11",
     "output_type": "error",
     "traceback": [
      "\u001b[1;31m---------------------------------------------------------------------------\u001b[0m",
      "\u001b[1;31mKeyError\u001b[0m                                  Traceback (most recent call last)",
      "File \u001b[1;32m~\\anaconda3\\lib\\site-packages\\pandas\\core\\indexes\\base.py:3621\u001b[0m, in \u001b[0;36mIndex.get_loc\u001b[1;34m(self, key, method, tolerance)\u001b[0m\n\u001b[0;32m   3620\u001b[0m \u001b[38;5;28;01mtry\u001b[39;00m:\n\u001b[1;32m-> 3621\u001b[0m     \u001b[38;5;28;01mreturn\u001b[39;00m \u001b[38;5;28;43mself\u001b[39;49m\u001b[38;5;241;43m.\u001b[39;49m\u001b[43m_engine\u001b[49m\u001b[38;5;241;43m.\u001b[39;49m\u001b[43mget_loc\u001b[49m\u001b[43m(\u001b[49m\u001b[43mcasted_key\u001b[49m\u001b[43m)\u001b[49m\n\u001b[0;32m   3622\u001b[0m \u001b[38;5;28;01mexcept\u001b[39;00m \u001b[38;5;167;01mKeyError\u001b[39;00m \u001b[38;5;28;01mas\u001b[39;00m err:\n",
      "File \u001b[1;32m~\\anaconda3\\lib\\site-packages\\pandas\\_libs\\index.pyx:136\u001b[0m, in \u001b[0;36mpandas._libs.index.IndexEngine.get_loc\u001b[1;34m()\u001b[0m\n",
      "File \u001b[1;32m~\\anaconda3\\lib\\site-packages\\pandas\\_libs\\index.pyx:163\u001b[0m, in \u001b[0;36mpandas._libs.index.IndexEngine.get_loc\u001b[1;34m()\u001b[0m\n",
      "File \u001b[1;32mpandas\\_libs\\hashtable_class_helper.pxi:2131\u001b[0m, in \u001b[0;36mpandas._libs.hashtable.Int64HashTable.get_item\u001b[1;34m()\u001b[0m\n",
      "File \u001b[1;32mpandas\\_libs\\hashtable_class_helper.pxi:2140\u001b[0m, in \u001b[0;36mpandas._libs.hashtable.Int64HashTable.get_item\u001b[1;34m()\u001b[0m\n",
      "\u001b[1;31mKeyError\u001b[0m: 11",
      "\nThe above exception was the direct cause of the following exception:\n",
      "\u001b[1;31mKeyError\u001b[0m                                  Traceback (most recent call last)",
      "Input \u001b[1;32mIn [18]\u001b[0m, in \u001b[0;36m<cell line: 3>\u001b[1;34m()\u001b[0m\n\u001b[0;32m      3\u001b[0m \u001b[38;5;28;01mfor\u001b[39;00m i \u001b[38;5;129;01min\u001b[39;00m \u001b[38;5;28mrange\u001b[39m(\u001b[38;5;28mlen\u001b[39m(calendar)):\n\u001b[0;32m      4\u001b[0m     start_dates \u001b[38;5;241m=\u001b[39m []\n\u001b[1;32m----> 6\u001b[0m     dt_start \u001b[38;5;241m=\u001b[39m \u001b[43mcalendar\u001b[49m\u001b[38;5;241;43m.\u001b[39;49m\u001b[43mloc\u001b[49m\u001b[43m[\u001b[49m\u001b[43mi\u001b[49m\u001b[43m,\u001b[49m\u001b[38;5;124;43m'\u001b[39;49m\u001b[38;5;124;43mstart_date\u001b[39;49m\u001b[38;5;124;43m'\u001b[39;49m\u001b[43m]\u001b[49m\n\u001b[0;32m      7\u001b[0m     dt_end \u001b[38;5;241m=\u001b[39m calendar\u001b[38;5;241m.\u001b[39mloc[i,\u001b[38;5;124m'\u001b[39m\u001b[38;5;124mend_date\u001b[39m\u001b[38;5;124m'\u001b[39m]\n\u001b[0;32m      9\u001b[0m     one_day \u001b[38;5;241m=\u001b[39m datetime\u001b[38;5;241m.\u001b[39mtimedelta(\u001b[38;5;241m1\u001b[39m)\n",
      "File \u001b[1;32m~\\anaconda3\\lib\\site-packages\\pandas\\core\\indexing.py:960\u001b[0m, in \u001b[0;36m_LocationIndexer.__getitem__\u001b[1;34m(self, key)\u001b[0m\n\u001b[0;32m    958\u001b[0m     key \u001b[38;5;241m=\u001b[39m \u001b[38;5;28mtuple\u001b[39m(com\u001b[38;5;241m.\u001b[39mapply_if_callable(x, \u001b[38;5;28mself\u001b[39m\u001b[38;5;241m.\u001b[39mobj) \u001b[38;5;28;01mfor\u001b[39;00m x \u001b[38;5;129;01min\u001b[39;00m key)\n\u001b[0;32m    959\u001b[0m     \u001b[38;5;28;01mif\u001b[39;00m \u001b[38;5;28mself\u001b[39m\u001b[38;5;241m.\u001b[39m_is_scalar_access(key):\n\u001b[1;32m--> 960\u001b[0m         \u001b[38;5;28;01mreturn\u001b[39;00m \u001b[38;5;28;43mself\u001b[39;49m\u001b[38;5;241;43m.\u001b[39;49m\u001b[43mobj\u001b[49m\u001b[38;5;241;43m.\u001b[39;49m\u001b[43m_get_value\u001b[49m\u001b[43m(\u001b[49m\u001b[38;5;241;43m*\u001b[39;49m\u001b[43mkey\u001b[49m\u001b[43m,\u001b[49m\u001b[43m \u001b[49m\u001b[43mtakeable\u001b[49m\u001b[38;5;241;43m=\u001b[39;49m\u001b[38;5;28;43mself\u001b[39;49m\u001b[38;5;241;43m.\u001b[39;49m\u001b[43m_takeable\u001b[49m\u001b[43m)\u001b[49m\n\u001b[0;32m    961\u001b[0m     \u001b[38;5;28;01mreturn\u001b[39;00m \u001b[38;5;28mself\u001b[39m\u001b[38;5;241m.\u001b[39m_getitem_tuple(key)\n\u001b[0;32m    962\u001b[0m \u001b[38;5;28;01melse\u001b[39;00m:\n\u001b[0;32m    963\u001b[0m     \u001b[38;5;66;03m# we by definition only have the 0th axis\u001b[39;00m\n",
      "File \u001b[1;32m~\\anaconda3\\lib\\site-packages\\pandas\\core\\frame.py:3622\u001b[0m, in \u001b[0;36mDataFrame._get_value\u001b[1;34m(self, index, col, takeable)\u001b[0m\n\u001b[0;32m   3616\u001b[0m engine \u001b[38;5;241m=\u001b[39m \u001b[38;5;28mself\u001b[39m\u001b[38;5;241m.\u001b[39mindex\u001b[38;5;241m.\u001b[39m_engine\n\u001b[0;32m   3618\u001b[0m \u001b[38;5;28;01mif\u001b[39;00m \u001b[38;5;129;01mnot\u001b[39;00m \u001b[38;5;28misinstance\u001b[39m(\u001b[38;5;28mself\u001b[39m\u001b[38;5;241m.\u001b[39mindex, MultiIndex):\n\u001b[0;32m   3619\u001b[0m     \u001b[38;5;66;03m# CategoricalIndex: Trying to use the engine fastpath may give incorrect\u001b[39;00m\n\u001b[0;32m   3620\u001b[0m     \u001b[38;5;66;03m#  results if our categories are integers that dont match our codes\u001b[39;00m\n\u001b[0;32m   3621\u001b[0m     \u001b[38;5;66;03m# IntervalIndex: IntervalTree has no get_loc\u001b[39;00m\n\u001b[1;32m-> 3622\u001b[0m     row \u001b[38;5;241m=\u001b[39m \u001b[38;5;28;43mself\u001b[39;49m\u001b[38;5;241;43m.\u001b[39;49m\u001b[43mindex\u001b[49m\u001b[38;5;241;43m.\u001b[39;49m\u001b[43mget_loc\u001b[49m\u001b[43m(\u001b[49m\u001b[43mindex\u001b[49m\u001b[43m)\u001b[49m\n\u001b[0;32m   3623\u001b[0m     \u001b[38;5;28;01mreturn\u001b[39;00m series\u001b[38;5;241m.\u001b[39m_values[row]\n\u001b[0;32m   3625\u001b[0m \u001b[38;5;66;03m# For MultiIndex going through engine effectively restricts us to\u001b[39;00m\n\u001b[0;32m   3626\u001b[0m \u001b[38;5;66;03m#  same-length tuples; see test_get_set_value_no_partial_indexing\u001b[39;00m\n",
      "File \u001b[1;32m~\\anaconda3\\lib\\site-packages\\pandas\\core\\indexes\\base.py:3623\u001b[0m, in \u001b[0;36mIndex.get_loc\u001b[1;34m(self, key, method, tolerance)\u001b[0m\n\u001b[0;32m   3621\u001b[0m     \u001b[38;5;28;01mreturn\u001b[39;00m \u001b[38;5;28mself\u001b[39m\u001b[38;5;241m.\u001b[39m_engine\u001b[38;5;241m.\u001b[39mget_loc(casted_key)\n\u001b[0;32m   3622\u001b[0m \u001b[38;5;28;01mexcept\u001b[39;00m \u001b[38;5;167;01mKeyError\u001b[39;00m \u001b[38;5;28;01mas\u001b[39;00m err:\n\u001b[1;32m-> 3623\u001b[0m     \u001b[38;5;28;01mraise\u001b[39;00m \u001b[38;5;167;01mKeyError\u001b[39;00m(key) \u001b[38;5;28;01mfrom\u001b[39;00m \u001b[38;5;21;01merr\u001b[39;00m\n\u001b[0;32m   3624\u001b[0m \u001b[38;5;28;01mexcept\u001b[39;00m \u001b[38;5;167;01mTypeError\u001b[39;00m:\n\u001b[0;32m   3625\u001b[0m     \u001b[38;5;66;03m# If we have a listlike key, _check_indexing_error will raise\u001b[39;00m\n\u001b[0;32m   3626\u001b[0m     \u001b[38;5;66;03m#  InvalidIndexError. Otherwise we fall through and re-raise\u001b[39;00m\n\u001b[0;32m   3627\u001b[0m     \u001b[38;5;66;03m#  the TypeError.\u001b[39;00m\n\u001b[0;32m   3628\u001b[0m     \u001b[38;5;28mself\u001b[39m\u001b[38;5;241m.\u001b[39m_check_indexing_error(key)\n",
      "\u001b[1;31mKeyError\u001b[0m: 11"
     ]
    }
   ],
   "source": [
    "new_calendar = pd.DataFrame()\n",
    "\n",
    "for i in range(len(calendar)):\n",
    "    start_dates = []\n",
    "\n",
    "    dt_start = calendar.loc[i,'start_date']\n",
    "    dt_end = calendar.loc[i,'end_date']\n",
    "\n",
    "    one_day = datetime.timedelta(1)\n",
    "    start_dates = [dt_start]\n",
    "    end_dates = []\n",
    "    today = dt_start\n",
    "\n",
    "    while today <= dt_end:\n",
    "        tomorrow = today + one_day\n",
    "        if tomorrow.month != today.month:\n",
    "            start_dates.append(tomorrow)\n",
    "            end_dates.append(today)\n",
    "        today = tomorrow\n",
    "\n",
    "    end_dates.append(dt_end)\n",
    "\n",
    "    for j in range(len(start_dates)):\n",
    "        new_row = calendar.loc[i].copy()\n",
    "        new_row['start_date'] = start_dates[j]\n",
    "        new_row['end_date'] = end_dates[j]\n",
    "        new_row['month'] = start_dates[j].month\n",
    "        new_calendar = new_calendar.append(new_row,ignore_index=True)\n",
    "\n",
    "new_calendar.to_csv(\"new_calendar.csv\")\n",
    "df4 = new_calendar\n",
    "df4"
   ]
  },
  {
   "cell_type": "code",
   "execution_count": null,
   "id": "0b6a04cd",
   "metadata": {},
   "outputs": [],
   "source": [
    "new_calendar = pd.read_csv(\"GTFS data waikato/new_calendar.csv\")\n",
    "new_calendar[new_calendar['service_id'] == 'WKO00_MTWThF_20220201_20260306']\n",
    "#??? the code does not work when the bus runs only for one day therefore \n",
    "#??? not all records have month and day count filled in"
   ]
  },
  {
   "cell_type": "code",
   "execution_count": null,
   "id": "5752b8f2",
   "metadata": {},
   "outputs": [],
   "source": [
    "# Function to count number of days a bus runs betwwen start and end date considering the weekday columns\n",
    "\n",
    "from datetime import timedelta\n",
    "\n",
    "def count_days_excluding(row):\n",
    "    current_date = row['start_date']\n",
    "    day_count = 0\n",
    "    \n",
    "    while current_date <= row['end_date']:\n",
    "        weekday_column = current_date.strftime('%A').lower() \n",
    "        if row[weekday_column] == 1:\n",
    "            day_count += 1\n",
    "        current_date += timedelta(days=1)\n",
    "    \n",
    "    return day_count"
   ]
  },
  {
   "cell_type": "code",
   "execution_count": null,
   "id": "2e8808ae",
   "metadata": {},
   "outputs": [],
   "source": [
    "# Apply the function to each row and add the result as a new column\n",
    "new_calendar['day_count'] = new_calendar.apply(count_days_excluding, axis=1)"
   ]
  },
  {
   "cell_type": "code",
   "execution_count": null,
   "id": "43f22373",
   "metadata": {},
   "outputs": [],
   "source": [
    "new_calendar[new_calendar['service_id'] == 'WKO00_S_20221217_20221217']"
   ]
  },
  {
   "cell_type": "code",
   "execution_count": null,
   "id": "3734af9b",
   "metadata": {},
   "outputs": [],
   "source": [
    "# Merge routes_trips_stors and new_calendar dataframes based on 'service_id' column with 'outer' join\n",
    "trips_routes_calendar = pd.merge(new_calendar[['service_id','service_name','month','day_count']], routes_trips_stops, on=['service_id'], how='outer')\n",
    "\n",
    "trips_routes_calendar.describe()\n"
   ]
  },
  {
   "cell_type": "code",
   "execution_count": null,
   "id": "2b396091",
   "metadata": {},
   "outputs": [],
   "source": [
    "trips_routes_calendar.head()"
   ]
  }
 ],
 "metadata": {
  "kernelspec": {
   "display_name": "Python 3 (ipykernel)",
   "language": "python",
   "name": "python3"
  },
  "language_info": {
   "codemirror_mode": {
    "name": "ipython",
    "version": 3
   },
   "file_extension": ".py",
   "mimetype": "text/x-python",
   "name": "python",
   "nbconvert_exporter": "python",
   "pygments_lexer": "ipython3",
   "version": "3.9.12"
  }
 },
 "nbformat": 4,
 "nbformat_minor": 5
}
