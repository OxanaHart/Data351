{
 "cells": [
  {
   "cell_type": "code",
   "execution_count": null,
   "id": "d5dae184",
   "metadata": {},
   "outputs": [],
   "source": [
    "calendar_exceptions = pd.read_csv(\"GTFS data waikato/calendar_dates.txt\")\n",
    "calendar_exceptions.head()"
   ]
  }
 ],
 "metadata": {
  "kernelspec": {
   "display_name": "Python 3 (ipykernel)",
   "language": "python",
   "name": "python3"
  },
  "language_info": {
   "codemirror_mode": {
    "name": "ipython",
    "version": 3
   },
   "file_extension": ".py",
   "mimetype": "text/x-python",
   "name": "python",
   "nbconvert_exporter": "python",
   "pygments_lexer": "ipython3",
   "version": "3.9.12"
  }
 },
 "nbformat": 4,
 "nbformat_minor": 5
}
